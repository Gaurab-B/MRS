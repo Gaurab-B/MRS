{
  "cells": [
    {
      "cell_type": "markdown",
      "metadata": {
        "id": "view-in-github",
        "colab_type": "text"
      },
      "source": [
        "<a href=\"https://colab.research.google.com/github/Gaurab-B/MRS/blob/main/Content_Based_Recommendation_final.ipynb\" target=\"_parent\"><img src=\"https://colab.research.google.com/assets/colab-badge.svg\" alt=\"Open In Colab\"/></a>"
      ]
    },
    {
      "cell_type": "markdown",
      "metadata": {
        "id": "26d3e37d"
      },
      "source": [
        "# Movie Recommendation System\n",
        "\n",
        "#### Summer 2023\n",
        "#### Dataset IMDB 5000 Movie Dataset"
      ],
      "id": "26d3e37d"
    },
    {
      "cell_type": "markdown",
      "source": [
        "**Skip to text cell 72 to test different movie algorithms. The movieset is not that big so you might need to find some older movies to search and get the receommended movies.**"
      ],
      "metadata": {
        "id": "MWG3gWPyQKO5"
      },
      "id": "MWG3gWPyQKO5"
    },
    {
      "cell_type": "code",
      "execution_count": null,
      "metadata": {
        "id": "e119b70d"
      },
      "outputs": [],
      "source": [
        "import pandas as pd\n",
        "import matplotlib.pyplot as plt\n",
        "import numpy as np"
      ],
      "id": "e119b70d"
    },
    {
      "cell_type": "markdown",
      "metadata": {
        "id": "860dfc2b"
      },
      "source": [
        "## Dataset"
      ],
      "id": "860dfc2b"
    },
    {
      "cell_type": "code",
      "execution_count": null,
      "metadata": {
        "id": "d4d6dfbe"
      },
      "outputs": [],
      "source": [
        "path2 = \"https://github.com/Gaurab-B/MRS/blob/main/movie_metadata.csv?raw=true\"\n",
        "movie_data = pd.read_csv(path2)"
      ],
      "id": "d4d6dfbe"
    },
    {
      "cell_type": "code",
      "execution_count": null,
      "metadata": {
        "colab": {
          "base_uri": "https://localhost:8080/",
          "height": 351
        },
        "id": "622f267c",
        "outputId": "e32047bf-f41b-487d-90df-8eecbe41ab4c"
      },
      "outputs": [
        {
          "output_type": "execute_result",
          "data": {
            "text/plain": [
              "   color      director_name  num_critic_for_reviews  duration  \\\n",
              "0  Color      James Cameron                   723.0     178.0   \n",
              "1  Color     Gore Verbinski                   302.0     169.0   \n",
              "2  Color         Sam Mendes                   602.0     148.0   \n",
              "3  Color  Christopher Nolan                   813.0     164.0   \n",
              "4    NaN        Doug Walker                     NaN       NaN   \n",
              "\n",
              "   director_facebook_likes  actor_3_facebook_likes      actor_2_name  \\\n",
              "0                      0.0                   855.0  Joel David Moore   \n",
              "1                    563.0                  1000.0     Orlando Bloom   \n",
              "2                      0.0                   161.0      Rory Kinnear   \n",
              "3                  22000.0                 23000.0    Christian Bale   \n",
              "4                    131.0                     NaN        Rob Walker   \n",
              "\n",
              "   actor_1_facebook_likes        gross                           genres  ...  \\\n",
              "0                  1000.0  760505847.0  Action|Adventure|Fantasy|Sci-Fi  ...   \n",
              "1                 40000.0  309404152.0         Action|Adventure|Fantasy  ...   \n",
              "2                 11000.0  200074175.0        Action|Adventure|Thriller  ...   \n",
              "3                 27000.0  448130642.0                  Action|Thriller  ...   \n",
              "4                   131.0          NaN                      Documentary  ...   \n",
              "\n",
              "  num_user_for_reviews language  country  content_rating       budget  \\\n",
              "0               3054.0  English      USA           PG-13  237000000.0   \n",
              "1               1238.0  English      USA           PG-13  300000000.0   \n",
              "2                994.0  English       UK           PG-13  245000000.0   \n",
              "3               2701.0  English      USA           PG-13  250000000.0   \n",
              "4                  NaN      NaN      NaN             NaN          NaN   \n",
              "\n",
              "   title_year actor_2_facebook_likes imdb_score  aspect_ratio  \\\n",
              "0      2009.0                  936.0        7.9          1.78   \n",
              "1      2007.0                 5000.0        7.1          2.35   \n",
              "2      2015.0                  393.0        6.8          2.35   \n",
              "3      2012.0                23000.0        8.5          2.35   \n",
              "4         NaN                   12.0        7.1           NaN   \n",
              "\n",
              "  movie_facebook_likes  \n",
              "0                33000  \n",
              "1                    0  \n",
              "2                85000  \n",
              "3               164000  \n",
              "4                    0  \n",
              "\n",
              "[5 rows x 28 columns]"
            ],
            "text/html": [
              "\n",
              "\n",
              "  <div id=\"df-34519753-ff04-4da0-b1a5-8b77c6ca5569\">\n",
              "    <div class=\"colab-df-container\">\n",
              "      <div>\n",
              "<style scoped>\n",
              "    .dataframe tbody tr th:only-of-type {\n",
              "        vertical-align: middle;\n",
              "    }\n",
              "\n",
              "    .dataframe tbody tr th {\n",
              "        vertical-align: top;\n",
              "    }\n",
              "\n",
              "    .dataframe thead th {\n",
              "        text-align: right;\n",
              "    }\n",
              "</style>\n",
              "<table border=\"1\" class=\"dataframe\">\n",
              "  <thead>\n",
              "    <tr style=\"text-align: right;\">\n",
              "      <th></th>\n",
              "      <th>color</th>\n",
              "      <th>director_name</th>\n",
              "      <th>num_critic_for_reviews</th>\n",
              "      <th>duration</th>\n",
              "      <th>director_facebook_likes</th>\n",
              "      <th>actor_3_facebook_likes</th>\n",
              "      <th>actor_2_name</th>\n",
              "      <th>actor_1_facebook_likes</th>\n",
              "      <th>gross</th>\n",
              "      <th>genres</th>\n",
              "      <th>...</th>\n",
              "      <th>num_user_for_reviews</th>\n",
              "      <th>language</th>\n",
              "      <th>country</th>\n",
              "      <th>content_rating</th>\n",
              "      <th>budget</th>\n",
              "      <th>title_year</th>\n",
              "      <th>actor_2_facebook_likes</th>\n",
              "      <th>imdb_score</th>\n",
              "      <th>aspect_ratio</th>\n",
              "      <th>movie_facebook_likes</th>\n",
              "    </tr>\n",
              "  </thead>\n",
              "  <tbody>\n",
              "    <tr>\n",
              "      <th>0</th>\n",
              "      <td>Color</td>\n",
              "      <td>James Cameron</td>\n",
              "      <td>723.0</td>\n",
              "      <td>178.0</td>\n",
              "      <td>0.0</td>\n",
              "      <td>855.0</td>\n",
              "      <td>Joel David Moore</td>\n",
              "      <td>1000.0</td>\n",
              "      <td>760505847.0</td>\n",
              "      <td>Action|Adventure|Fantasy|Sci-Fi</td>\n",
              "      <td>...</td>\n",
              "      <td>3054.0</td>\n",
              "      <td>English</td>\n",
              "      <td>USA</td>\n",
              "      <td>PG-13</td>\n",
              "      <td>237000000.0</td>\n",
              "      <td>2009.0</td>\n",
              "      <td>936.0</td>\n",
              "      <td>7.9</td>\n",
              "      <td>1.78</td>\n",
              "      <td>33000</td>\n",
              "    </tr>\n",
              "    <tr>\n",
              "      <th>1</th>\n",
              "      <td>Color</td>\n",
              "      <td>Gore Verbinski</td>\n",
              "      <td>302.0</td>\n",
              "      <td>169.0</td>\n",
              "      <td>563.0</td>\n",
              "      <td>1000.0</td>\n",
              "      <td>Orlando Bloom</td>\n",
              "      <td>40000.0</td>\n",
              "      <td>309404152.0</td>\n",
              "      <td>Action|Adventure|Fantasy</td>\n",
              "      <td>...</td>\n",
              "      <td>1238.0</td>\n",
              "      <td>English</td>\n",
              "      <td>USA</td>\n",
              "      <td>PG-13</td>\n",
              "      <td>300000000.0</td>\n",
              "      <td>2007.0</td>\n",
              "      <td>5000.0</td>\n",
              "      <td>7.1</td>\n",
              "      <td>2.35</td>\n",
              "      <td>0</td>\n",
              "    </tr>\n",
              "    <tr>\n",
              "      <th>2</th>\n",
              "      <td>Color</td>\n",
              "      <td>Sam Mendes</td>\n",
              "      <td>602.0</td>\n",
              "      <td>148.0</td>\n",
              "      <td>0.0</td>\n",
              "      <td>161.0</td>\n",
              "      <td>Rory Kinnear</td>\n",
              "      <td>11000.0</td>\n",
              "      <td>200074175.0</td>\n",
              "      <td>Action|Adventure|Thriller</td>\n",
              "      <td>...</td>\n",
              "      <td>994.0</td>\n",
              "      <td>English</td>\n",
              "      <td>UK</td>\n",
              "      <td>PG-13</td>\n",
              "      <td>245000000.0</td>\n",
              "      <td>2015.0</td>\n",
              "      <td>393.0</td>\n",
              "      <td>6.8</td>\n",
              "      <td>2.35</td>\n",
              "      <td>85000</td>\n",
              "    </tr>\n",
              "    <tr>\n",
              "      <th>3</th>\n",
              "      <td>Color</td>\n",
              "      <td>Christopher Nolan</td>\n",
              "      <td>813.0</td>\n",
              "      <td>164.0</td>\n",
              "      <td>22000.0</td>\n",
              "      <td>23000.0</td>\n",
              "      <td>Christian Bale</td>\n",
              "      <td>27000.0</td>\n",
              "      <td>448130642.0</td>\n",
              "      <td>Action|Thriller</td>\n",
              "      <td>...</td>\n",
              "      <td>2701.0</td>\n",
              "      <td>English</td>\n",
              "      <td>USA</td>\n",
              "      <td>PG-13</td>\n",
              "      <td>250000000.0</td>\n",
              "      <td>2012.0</td>\n",
              "      <td>23000.0</td>\n",
              "      <td>8.5</td>\n",
              "      <td>2.35</td>\n",
              "      <td>164000</td>\n",
              "    </tr>\n",
              "    <tr>\n",
              "      <th>4</th>\n",
              "      <td>NaN</td>\n",
              "      <td>Doug Walker</td>\n",
              "      <td>NaN</td>\n",
              "      <td>NaN</td>\n",
              "      <td>131.0</td>\n",
              "      <td>NaN</td>\n",
              "      <td>Rob Walker</td>\n",
              "      <td>131.0</td>\n",
              "      <td>NaN</td>\n",
              "      <td>Documentary</td>\n",
              "      <td>...</td>\n",
              "      <td>NaN</td>\n",
              "      <td>NaN</td>\n",
              "      <td>NaN</td>\n",
              "      <td>NaN</td>\n",
              "      <td>NaN</td>\n",
              "      <td>NaN</td>\n",
              "      <td>12.0</td>\n",
              "      <td>7.1</td>\n",
              "      <td>NaN</td>\n",
              "      <td>0</td>\n",
              "    </tr>\n",
              "  </tbody>\n",
              "</table>\n",
              "<p>5 rows × 28 columns</p>\n",
              "</div>\n",
              "      <button class=\"colab-df-convert\" onclick=\"convertToInteractive('df-34519753-ff04-4da0-b1a5-8b77c6ca5569')\"\n",
              "              title=\"Convert this dataframe to an interactive table.\"\n",
              "              style=\"display:none;\">\n",
              "\n",
              "  <svg xmlns=\"http://www.w3.org/2000/svg\" height=\"24px\"viewBox=\"0 0 24 24\"\n",
              "       width=\"24px\">\n",
              "    <path d=\"M0 0h24v24H0V0z\" fill=\"none\"/>\n",
              "    <path d=\"M18.56 5.44l.94 2.06.94-2.06 2.06-.94-2.06-.94-.94-2.06-.94 2.06-2.06.94zm-11 1L8.5 8.5l.94-2.06 2.06-.94-2.06-.94L8.5 2.5l-.94 2.06-2.06.94zm10 10l.94 2.06.94-2.06 2.06-.94-2.06-.94-.94-2.06-.94 2.06-2.06.94z\"/><path d=\"M17.41 7.96l-1.37-1.37c-.4-.4-.92-.59-1.43-.59-.52 0-1.04.2-1.43.59L10.3 9.45l-7.72 7.72c-.78.78-.78 2.05 0 2.83L4 21.41c.39.39.9.59 1.41.59.51 0 1.02-.2 1.41-.59l7.78-7.78 2.81-2.81c.8-.78.8-2.07 0-2.86zM5.41 20L4 18.59l7.72-7.72 1.47 1.35L5.41 20z\"/>\n",
              "  </svg>\n",
              "      </button>\n",
              "\n",
              "\n",
              "\n",
              "    <div id=\"df-fe16d130-0281-4fb9-ab5b-ed1c842b397e\">\n",
              "      <button class=\"colab-df-quickchart\" onclick=\"quickchart('df-fe16d130-0281-4fb9-ab5b-ed1c842b397e')\"\n",
              "              title=\"Suggest charts.\"\n",
              "              style=\"display:none;\">\n",
              "\n",
              "<svg xmlns=\"http://www.w3.org/2000/svg\" height=\"24px\"viewBox=\"0 0 24 24\"\n",
              "     width=\"24px\">\n",
              "    <g>\n",
              "        <path d=\"M19 3H5c-1.1 0-2 .9-2 2v14c0 1.1.9 2 2 2h14c1.1 0 2-.9 2-2V5c0-1.1-.9-2-2-2zM9 17H7v-7h2v7zm4 0h-2V7h2v10zm4 0h-2v-4h2v4z\"/>\n",
              "    </g>\n",
              "</svg>\n",
              "      </button>\n",
              "    </div>\n",
              "\n",
              "<style>\n",
              "  .colab-df-quickchart {\n",
              "    background-color: #E8F0FE;\n",
              "    border: none;\n",
              "    border-radius: 50%;\n",
              "    cursor: pointer;\n",
              "    display: none;\n",
              "    fill: #1967D2;\n",
              "    height: 32px;\n",
              "    padding: 0 0 0 0;\n",
              "    width: 32px;\n",
              "  }\n",
              "\n",
              "  .colab-df-quickchart:hover {\n",
              "    background-color: #E2EBFA;\n",
              "    box-shadow: 0px 1px 2px rgba(60, 64, 67, 0.3), 0px 1px 3px 1px rgba(60, 64, 67, 0.15);\n",
              "    fill: #174EA6;\n",
              "  }\n",
              "\n",
              "  [theme=dark] .colab-df-quickchart {\n",
              "    background-color: #3B4455;\n",
              "    fill: #D2E3FC;\n",
              "  }\n",
              "\n",
              "  [theme=dark] .colab-df-quickchart:hover {\n",
              "    background-color: #434B5C;\n",
              "    box-shadow: 0px 1px 3px 1px rgba(0, 0, 0, 0.15);\n",
              "    filter: drop-shadow(0px 1px 2px rgba(0, 0, 0, 0.3));\n",
              "    fill: #FFFFFF;\n",
              "  }\n",
              "</style>\n",
              "\n",
              "    <script>\n",
              "      async function quickchart(key) {\n",
              "        const containerElement = document.querySelector('#' + key);\n",
              "        const charts = await google.colab.kernel.invokeFunction(\n",
              "            'suggestCharts', [key], {});\n",
              "      }\n",
              "    </script>\n",
              "\n",
              "      <script>\n",
              "\n",
              "function displayQuickchartButton(domScope) {\n",
              "  let quickchartButtonEl =\n",
              "    domScope.querySelector('#df-fe16d130-0281-4fb9-ab5b-ed1c842b397e button.colab-df-quickchart');\n",
              "  quickchartButtonEl.style.display =\n",
              "    google.colab.kernel.accessAllowed ? 'block' : 'none';\n",
              "}\n",
              "\n",
              "        displayQuickchartButton(document);\n",
              "      </script>\n",
              "      <style>\n",
              "    .colab-df-container {\n",
              "      display:flex;\n",
              "      flex-wrap:wrap;\n",
              "      gap: 12px;\n",
              "    }\n",
              "\n",
              "    .colab-df-convert {\n",
              "      background-color: #E8F0FE;\n",
              "      border: none;\n",
              "      border-radius: 50%;\n",
              "      cursor: pointer;\n",
              "      display: none;\n",
              "      fill: #1967D2;\n",
              "      height: 32px;\n",
              "      padding: 0 0 0 0;\n",
              "      width: 32px;\n",
              "    }\n",
              "\n",
              "    .colab-df-convert:hover {\n",
              "      background-color: #E2EBFA;\n",
              "      box-shadow: 0px 1px 2px rgba(60, 64, 67, 0.3), 0px 1px 3px 1px rgba(60, 64, 67, 0.15);\n",
              "      fill: #174EA6;\n",
              "    }\n",
              "\n",
              "    [theme=dark] .colab-df-convert {\n",
              "      background-color: #3B4455;\n",
              "      fill: #D2E3FC;\n",
              "    }\n",
              "\n",
              "    [theme=dark] .colab-df-convert:hover {\n",
              "      background-color: #434B5C;\n",
              "      box-shadow: 0px 1px 3px 1px rgba(0, 0, 0, 0.15);\n",
              "      filter: drop-shadow(0px 1px 2px rgba(0, 0, 0, 0.3));\n",
              "      fill: #FFFFFF;\n",
              "    }\n",
              "  </style>\n",
              "\n",
              "      <script>\n",
              "        const buttonEl =\n",
              "          document.querySelector('#df-34519753-ff04-4da0-b1a5-8b77c6ca5569 button.colab-df-convert');\n",
              "        buttonEl.style.display =\n",
              "          google.colab.kernel.accessAllowed ? 'block' : 'none';\n",
              "\n",
              "        async function convertToInteractive(key) {\n",
              "          const element = document.querySelector('#df-34519753-ff04-4da0-b1a5-8b77c6ca5569');\n",
              "          const dataTable =\n",
              "            await google.colab.kernel.invokeFunction('convertToInteractive',\n",
              "                                                     [key], {});\n",
              "          if (!dataTable) return;\n",
              "\n",
              "          const docLinkHtml = 'Like what you see? Visit the ' +\n",
              "            '<a target=\"_blank\" href=https://colab.research.google.com/notebooks/data_table.ipynb>data table notebook</a>'\n",
              "            + ' to learn more about interactive tables.';\n",
              "          element.innerHTML = '';\n",
              "          dataTable['output_type'] = 'display_data';\n",
              "          await google.colab.output.renderOutput(dataTable, element);\n",
              "          const docLink = document.createElement('div');\n",
              "          docLink.innerHTML = docLinkHtml;\n",
              "          element.appendChild(docLink);\n",
              "        }\n",
              "      </script>\n",
              "    </div>\n",
              "  </div>\n"
            ]
          },
          "metadata": {},
          "execution_count": 3
        }
      ],
      "source": [
        "# check the basic dataset format\n",
        "movie_data.head()"
      ],
      "id": "622f267c"
    },
    {
      "cell_type": "code",
      "execution_count": null,
      "metadata": {
        "colab": {
          "base_uri": "https://localhost:8080/"
        },
        "id": "e12bbbbe",
        "outputId": "69bc6dca-f002-4082-fa4f-b2c6a3362e41"
      },
      "outputs": [
        {
          "output_type": "execute_result",
          "data": {
            "text/plain": [
              "Index(['color', 'director_name', 'num_critic_for_reviews', 'duration',\n",
              "       'director_facebook_likes', 'actor_3_facebook_likes', 'actor_2_name',\n",
              "       'actor_1_facebook_likes', 'gross', 'genres', 'actor_1_name',\n",
              "       'movie_title', 'num_voted_users', 'cast_total_facebook_likes',\n",
              "       'actor_3_name', 'facenumber_in_poster', 'plot_keywords',\n",
              "       'movie_imdb_link', 'num_user_for_reviews', 'language', 'country',\n",
              "       'content_rating', 'budget', 'title_year', 'actor_2_facebook_likes',\n",
              "       'imdb_score', 'aspect_ratio', 'movie_facebook_likes'],\n",
              "      dtype='object')"
            ]
          },
          "metadata": {},
          "execution_count": 4
        }
      ],
      "source": [
        "# check the column names\n",
        "movie_data.columns"
      ],
      "id": "e12bbbbe"
    },
    {
      "cell_type": "code",
      "execution_count": null,
      "metadata": {
        "colab": {
          "base_uri": "https://localhost:8080/"
        },
        "id": "fc1ba559",
        "outputId": "aa5a9566-9ad4-40e8-dd28-0de594560dc1"
      },
      "outputs": [
        {
          "output_type": "execute_result",
          "data": {
            "text/plain": [
              "(5043, 28)"
            ]
          },
          "metadata": {},
          "execution_count": 5
        }
      ],
      "source": [
        "# check the original dataset shape\n",
        "movie_data.shape"
      ],
      "id": "fc1ba559"
    },
    {
      "cell_type": "code",
      "execution_count": null,
      "metadata": {
        "colab": {
          "base_uri": "https://localhost:8080/"
        },
        "id": "03868640",
        "outputId": "62d3e434-1370-42d2-e01e-12315762f3b8"
      },
      "outputs": [
        {
          "output_type": "stream",
          "name": "stdout",
          "text": [
            "<class 'pandas.core.frame.DataFrame'>\n",
            "RangeIndex: 5043 entries, 0 to 5042\n",
            "Data columns (total 28 columns):\n",
            " #   Column                     Non-Null Count  Dtype  \n",
            "---  ------                     --------------  -----  \n",
            " 0   color                      5024 non-null   object \n",
            " 1   director_name              4939 non-null   object \n",
            " 2   num_critic_for_reviews     4993 non-null   float64\n",
            " 3   duration                   5028 non-null   float64\n",
            " 4   director_facebook_likes    4939 non-null   float64\n",
            " 5   actor_3_facebook_likes     5020 non-null   float64\n",
            " 6   actor_2_name               5030 non-null   object \n",
            " 7   actor_1_facebook_likes     5036 non-null   float64\n",
            " 8   gross                      4159 non-null   float64\n",
            " 9   genres                     5043 non-null   object \n",
            " 10  actor_1_name               5036 non-null   object \n",
            " 11  movie_title                5043 non-null   object \n",
            " 12  num_voted_users            5043 non-null   int64  \n",
            " 13  cast_total_facebook_likes  5043 non-null   int64  \n",
            " 14  actor_3_name               5020 non-null   object \n",
            " 15  facenumber_in_poster       5030 non-null   float64\n",
            " 16  plot_keywords              4890 non-null   object \n",
            " 17  movie_imdb_link            5043 non-null   object \n",
            " 18  num_user_for_reviews       5022 non-null   float64\n",
            " 19  language                   5031 non-null   object \n",
            " 20  country                    5038 non-null   object \n",
            " 21  content_rating             4740 non-null   object \n",
            " 22  budget                     4551 non-null   float64\n",
            " 23  title_year                 4935 non-null   float64\n",
            " 24  actor_2_facebook_likes     5030 non-null   float64\n",
            " 25  imdb_score                 5043 non-null   float64\n",
            " 26  aspect_ratio               4714 non-null   float64\n",
            " 27  movie_facebook_likes       5043 non-null   int64  \n",
            "dtypes: float64(13), int64(3), object(12)\n",
            "memory usage: 1.1+ MB\n"
          ]
        }
      ],
      "source": [
        "# check the dataset information\n",
        "movie_data.info()"
      ],
      "id": "03868640"
    },
    {
      "cell_type": "code",
      "execution_count": null,
      "metadata": {
        "colab": {
          "base_uri": "https://localhost:8080/"
        },
        "id": "b1897793",
        "outputId": "e006463b-0f9a-4a86-d6f3-443b24b401a3"
      },
      "outputs": [
        {
          "output_type": "execute_result",
          "data": {
            "text/plain": [
              "color                         19\n",
              "director_name                104\n",
              "num_critic_for_reviews        50\n",
              "duration                      15\n",
              "director_facebook_likes      104\n",
              "actor_3_facebook_likes        23\n",
              "actor_2_name                  13\n",
              "actor_1_facebook_likes         7\n",
              "gross                        884\n",
              "genres                         0\n",
              "actor_1_name                   7\n",
              "movie_title                    0\n",
              "num_voted_users                0\n",
              "cast_total_facebook_likes      0\n",
              "actor_3_name                  23\n",
              "facenumber_in_poster          13\n",
              "plot_keywords                153\n",
              "movie_imdb_link                0\n",
              "num_user_for_reviews          21\n",
              "language                      12\n",
              "country                        5\n",
              "content_rating               303\n",
              "budget                       492\n",
              "title_year                   108\n",
              "actor_2_facebook_likes        13\n",
              "imdb_score                     0\n",
              "aspect_ratio                 329\n",
              "movie_facebook_likes           0\n",
              "dtype: int64"
            ]
          },
          "metadata": {},
          "execution_count": 7
        }
      ],
      "source": [
        "# check the missing data in the dataset in terms of columns\n",
        "movie_data.isnull().sum()"
      ],
      "id": "b1897793"
    },
    {
      "cell_type": "code",
      "execution_count": null,
      "metadata": {
        "colab": {
          "base_uri": "https://localhost:8080/"
        },
        "id": "340776be",
        "outputId": "0dad63c3-dad9-4605-b744-cc6988dcae69"
      },
      "outputs": [
        {
          "output_type": "execute_result",
          "data": {
            "text/plain": [
              "array(['Color', nan, ' Black and White'], dtype=object)"
            ]
          },
          "metadata": {},
          "execution_count": 8
        }
      ],
      "source": [
        "# check the unique feature values of the color feature column\n",
        "movie_data.color.unique()"
      ],
      "id": "340776be"
    },
    {
      "cell_type": "code",
      "execution_count": null,
      "metadata": {
        "colab": {
          "base_uri": "https://localhost:8080/"
        },
        "id": "48b55d67",
        "outputId": "817c914f-5689-4d4f-9ed6-27e4e1bbcdf4"
      },
      "outputs": [
        {
          "output_type": "execute_result",
          "data": {
            "text/plain": [
              "array(['James Cameron', 'Gore Verbinski', 'Sam Mendes', ...,\n",
              "       'Scott Smith', 'Benjamin Roberds', 'Daniel Hsia'], dtype=object)"
            ]
          },
          "metadata": {},
          "execution_count": 9
        }
      ],
      "source": [
        "movie_data.director_name.unique()"
      ],
      "id": "48b55d67"
    },
    {
      "cell_type": "code",
      "execution_count": null,
      "metadata": {
        "colab": {
          "base_uri": "https://localhost:8080/"
        },
        "id": "9bbc10c6",
        "outputId": "7885bd73-4188-4975-83e4-584ac20f89f7"
      },
      "outputs": [
        {
          "output_type": "execute_result",
          "data": {
            "text/plain": [
              "2399"
            ]
          },
          "metadata": {},
          "execution_count": 10
        }
      ],
      "source": [
        "len(movie_data.director_name.unique())"
      ],
      "id": "9bbc10c6"
    },
    {
      "cell_type": "markdown",
      "metadata": {
        "id": "c3636f89"
      },
      "source": [
        "## Data Cleaning\n",
        "\n",
        "In this project, we consider partial feature columns of the original dataset to build the movie recommendation system"
      ],
      "id": "c3636f89"
    },
    {
      "cell_type": "code",
      "execution_count": null,
      "metadata": {
        "id": "cfda9133"
      },
      "outputs": [],
      "source": [
        "movies = movie_data.loc[:, ['director_name','actor_1_name','actor_2_name','actor_3_name','genres','movie_title','plot_keywords']]"
      ],
      "id": "cfda9133"
    },
    {
      "cell_type": "code",
      "execution_count": null,
      "metadata": {
        "colab": {
          "base_uri": "https://localhost:8080/",
          "height": 206
        },
        "id": "516834bf",
        "outputId": "d05aa661-5e39-47bc-a36c-687eeab5a09c"
      },
      "outputs": [
        {
          "output_type": "execute_result",
          "data": {
            "text/plain": [
              "       director_name     actor_1_name      actor_2_name          actor_3_name  \\\n",
              "0      James Cameron      CCH Pounder  Joel David Moore             Wes Studi   \n",
              "1     Gore Verbinski      Johnny Depp     Orlando Bloom        Jack Davenport   \n",
              "2         Sam Mendes  Christoph Waltz      Rory Kinnear      Stephanie Sigman   \n",
              "3  Christopher Nolan        Tom Hardy    Christian Bale  Joseph Gordon-Levitt   \n",
              "4        Doug Walker      Doug Walker        Rob Walker                   NaN   \n",
              "\n",
              "                            genres  \\\n",
              "0  Action|Adventure|Fantasy|Sci-Fi   \n",
              "1         Action|Adventure|Fantasy   \n",
              "2        Action|Adventure|Thriller   \n",
              "3                  Action|Thriller   \n",
              "4                      Documentary   \n",
              "\n",
              "                                         movie_title  \\\n",
              "0                                            Avatar    \n",
              "1          Pirates of the Caribbean: At World's End    \n",
              "2                                           Spectre    \n",
              "3                             The Dark Knight Rises    \n",
              "4  Star Wars: Episode VII - The Force Awakens    ...   \n",
              "\n",
              "                                       plot_keywords  \n",
              "0             avatar|future|marine|native|paraplegic  \n",
              "1  goddess|marriage ceremony|marriage proposal|pi...  \n",
              "2                bomb|espionage|sequel|spy|terrorist  \n",
              "3  deception|imprisonment|lawlessness|police offi...  \n",
              "4                                                NaN  "
            ],
            "text/html": [
              "\n",
              "\n",
              "  <div id=\"df-853f68fa-ae83-4574-9620-9d3f382b276f\">\n",
              "    <div class=\"colab-df-container\">\n",
              "      <div>\n",
              "<style scoped>\n",
              "    .dataframe tbody tr th:only-of-type {\n",
              "        vertical-align: middle;\n",
              "    }\n",
              "\n",
              "    .dataframe tbody tr th {\n",
              "        vertical-align: top;\n",
              "    }\n",
              "\n",
              "    .dataframe thead th {\n",
              "        text-align: right;\n",
              "    }\n",
              "</style>\n",
              "<table border=\"1\" class=\"dataframe\">\n",
              "  <thead>\n",
              "    <tr style=\"text-align: right;\">\n",
              "      <th></th>\n",
              "      <th>director_name</th>\n",
              "      <th>actor_1_name</th>\n",
              "      <th>actor_2_name</th>\n",
              "      <th>actor_3_name</th>\n",
              "      <th>genres</th>\n",
              "      <th>movie_title</th>\n",
              "      <th>plot_keywords</th>\n",
              "    </tr>\n",
              "  </thead>\n",
              "  <tbody>\n",
              "    <tr>\n",
              "      <th>0</th>\n",
              "      <td>James Cameron</td>\n",
              "      <td>CCH Pounder</td>\n",
              "      <td>Joel David Moore</td>\n",
              "      <td>Wes Studi</td>\n",
              "      <td>Action|Adventure|Fantasy|Sci-Fi</td>\n",
              "      <td>Avatar</td>\n",
              "      <td>avatar|future|marine|native|paraplegic</td>\n",
              "    </tr>\n",
              "    <tr>\n",
              "      <th>1</th>\n",
              "      <td>Gore Verbinski</td>\n",
              "      <td>Johnny Depp</td>\n",
              "      <td>Orlando Bloom</td>\n",
              "      <td>Jack Davenport</td>\n",
              "      <td>Action|Adventure|Fantasy</td>\n",
              "      <td>Pirates of the Caribbean: At World's End</td>\n",
              "      <td>goddess|marriage ceremony|marriage proposal|pi...</td>\n",
              "    </tr>\n",
              "    <tr>\n",
              "      <th>2</th>\n",
              "      <td>Sam Mendes</td>\n",
              "      <td>Christoph Waltz</td>\n",
              "      <td>Rory Kinnear</td>\n",
              "      <td>Stephanie Sigman</td>\n",
              "      <td>Action|Adventure|Thriller</td>\n",
              "      <td>Spectre</td>\n",
              "      <td>bomb|espionage|sequel|spy|terrorist</td>\n",
              "    </tr>\n",
              "    <tr>\n",
              "      <th>3</th>\n",
              "      <td>Christopher Nolan</td>\n",
              "      <td>Tom Hardy</td>\n",
              "      <td>Christian Bale</td>\n",
              "      <td>Joseph Gordon-Levitt</td>\n",
              "      <td>Action|Thriller</td>\n",
              "      <td>The Dark Knight Rises</td>\n",
              "      <td>deception|imprisonment|lawlessness|police offi...</td>\n",
              "    </tr>\n",
              "    <tr>\n",
              "      <th>4</th>\n",
              "      <td>Doug Walker</td>\n",
              "      <td>Doug Walker</td>\n",
              "      <td>Rob Walker</td>\n",
              "      <td>NaN</td>\n",
              "      <td>Documentary</td>\n",
              "      <td>Star Wars: Episode VII - The Force Awakens    ...</td>\n",
              "      <td>NaN</td>\n",
              "    </tr>\n",
              "  </tbody>\n",
              "</table>\n",
              "</div>\n",
              "      <button class=\"colab-df-convert\" onclick=\"convertToInteractive('df-853f68fa-ae83-4574-9620-9d3f382b276f')\"\n",
              "              title=\"Convert this dataframe to an interactive table.\"\n",
              "              style=\"display:none;\">\n",
              "\n",
              "  <svg xmlns=\"http://www.w3.org/2000/svg\" height=\"24px\"viewBox=\"0 0 24 24\"\n",
              "       width=\"24px\">\n",
              "    <path d=\"M0 0h24v24H0V0z\" fill=\"none\"/>\n",
              "    <path d=\"M18.56 5.44l.94 2.06.94-2.06 2.06-.94-2.06-.94-.94-2.06-.94 2.06-2.06.94zm-11 1L8.5 8.5l.94-2.06 2.06-.94-2.06-.94L8.5 2.5l-.94 2.06-2.06.94zm10 10l.94 2.06.94-2.06 2.06-.94-2.06-.94-.94-2.06-.94 2.06-2.06.94z\"/><path d=\"M17.41 7.96l-1.37-1.37c-.4-.4-.92-.59-1.43-.59-.52 0-1.04.2-1.43.59L10.3 9.45l-7.72 7.72c-.78.78-.78 2.05 0 2.83L4 21.41c.39.39.9.59 1.41.59.51 0 1.02-.2 1.41-.59l7.78-7.78 2.81-2.81c.8-.78.8-2.07 0-2.86zM5.41 20L4 18.59l7.72-7.72 1.47 1.35L5.41 20z\"/>\n",
              "  </svg>\n",
              "      </button>\n",
              "\n",
              "\n",
              "\n",
              "    <div id=\"df-abb0b47c-4bac-4cf8-8b1c-951d4ab5bfba\">\n",
              "      <button class=\"colab-df-quickchart\" onclick=\"quickchart('df-abb0b47c-4bac-4cf8-8b1c-951d4ab5bfba')\"\n",
              "              title=\"Suggest charts.\"\n",
              "              style=\"display:none;\">\n",
              "\n",
              "<svg xmlns=\"http://www.w3.org/2000/svg\" height=\"24px\"viewBox=\"0 0 24 24\"\n",
              "     width=\"24px\">\n",
              "    <g>\n",
              "        <path d=\"M19 3H5c-1.1 0-2 .9-2 2v14c0 1.1.9 2 2 2h14c1.1 0 2-.9 2-2V5c0-1.1-.9-2-2-2zM9 17H7v-7h2v7zm4 0h-2V7h2v10zm4 0h-2v-4h2v4z\"/>\n",
              "    </g>\n",
              "</svg>\n",
              "      </button>\n",
              "    </div>\n",
              "\n",
              "<style>\n",
              "  .colab-df-quickchart {\n",
              "    background-color: #E8F0FE;\n",
              "    border: none;\n",
              "    border-radius: 50%;\n",
              "    cursor: pointer;\n",
              "    display: none;\n",
              "    fill: #1967D2;\n",
              "    height: 32px;\n",
              "    padding: 0 0 0 0;\n",
              "    width: 32px;\n",
              "  }\n",
              "\n",
              "  .colab-df-quickchart:hover {\n",
              "    background-color: #E2EBFA;\n",
              "    box-shadow: 0px 1px 2px rgba(60, 64, 67, 0.3), 0px 1px 3px 1px rgba(60, 64, 67, 0.15);\n",
              "    fill: #174EA6;\n",
              "  }\n",
              "\n",
              "  [theme=dark] .colab-df-quickchart {\n",
              "    background-color: #3B4455;\n",
              "    fill: #D2E3FC;\n",
              "  }\n",
              "\n",
              "  [theme=dark] .colab-df-quickchart:hover {\n",
              "    background-color: #434B5C;\n",
              "    box-shadow: 0px 1px 3px 1px rgba(0, 0, 0, 0.15);\n",
              "    filter: drop-shadow(0px 1px 2px rgba(0, 0, 0, 0.3));\n",
              "    fill: #FFFFFF;\n",
              "  }\n",
              "</style>\n",
              "\n",
              "    <script>\n",
              "      async function quickchart(key) {\n",
              "        const containerElement = document.querySelector('#' + key);\n",
              "        const charts = await google.colab.kernel.invokeFunction(\n",
              "            'suggestCharts', [key], {});\n",
              "      }\n",
              "    </script>\n",
              "\n",
              "      <script>\n",
              "\n",
              "function displayQuickchartButton(domScope) {\n",
              "  let quickchartButtonEl =\n",
              "    domScope.querySelector('#df-abb0b47c-4bac-4cf8-8b1c-951d4ab5bfba button.colab-df-quickchart');\n",
              "  quickchartButtonEl.style.display =\n",
              "    google.colab.kernel.accessAllowed ? 'block' : 'none';\n",
              "}\n",
              "\n",
              "        displayQuickchartButton(document);\n",
              "      </script>\n",
              "      <style>\n",
              "    .colab-df-container {\n",
              "      display:flex;\n",
              "      flex-wrap:wrap;\n",
              "      gap: 12px;\n",
              "    }\n",
              "\n",
              "    .colab-df-convert {\n",
              "      background-color: #E8F0FE;\n",
              "      border: none;\n",
              "      border-radius: 50%;\n",
              "      cursor: pointer;\n",
              "      display: none;\n",
              "      fill: #1967D2;\n",
              "      height: 32px;\n",
              "      padding: 0 0 0 0;\n",
              "      width: 32px;\n",
              "    }\n",
              "\n",
              "    .colab-df-convert:hover {\n",
              "      background-color: #E2EBFA;\n",
              "      box-shadow: 0px 1px 2px rgba(60, 64, 67, 0.3), 0px 1px 3px 1px rgba(60, 64, 67, 0.15);\n",
              "      fill: #174EA6;\n",
              "    }\n",
              "\n",
              "    [theme=dark] .colab-df-convert {\n",
              "      background-color: #3B4455;\n",
              "      fill: #D2E3FC;\n",
              "    }\n",
              "\n",
              "    [theme=dark] .colab-df-convert:hover {\n",
              "      background-color: #434B5C;\n",
              "      box-shadow: 0px 1px 3px 1px rgba(0, 0, 0, 0.15);\n",
              "      filter: drop-shadow(0px 1px 2px rgba(0, 0, 0, 0.3));\n",
              "      fill: #FFFFFF;\n",
              "    }\n",
              "  </style>\n",
              "\n",
              "      <script>\n",
              "        const buttonEl =\n",
              "          document.querySelector('#df-853f68fa-ae83-4574-9620-9d3f382b276f button.colab-df-convert');\n",
              "        buttonEl.style.display =\n",
              "          google.colab.kernel.accessAllowed ? 'block' : 'none';\n",
              "\n",
              "        async function convertToInteractive(key) {\n",
              "          const element = document.querySelector('#df-853f68fa-ae83-4574-9620-9d3f382b276f');\n",
              "          const dataTable =\n",
              "            await google.colab.kernel.invokeFunction('convertToInteractive',\n",
              "                                                     [key], {});\n",
              "          if (!dataTable) return;\n",
              "\n",
              "          const docLinkHtml = 'Like what you see? Visit the ' +\n",
              "            '<a target=\"_blank\" href=https://colab.research.google.com/notebooks/data_table.ipynb>data table notebook</a>'\n",
              "            + ' to learn more about interactive tables.';\n",
              "          element.innerHTML = '';\n",
              "          dataTable['output_type'] = 'display_data';\n",
              "          await google.colab.output.renderOutput(dataTable, element);\n",
              "          const docLink = document.createElement('div');\n",
              "          docLink.innerHTML = docLinkHtml;\n",
              "          element.appendChild(docLink);\n",
              "        }\n",
              "      </script>\n",
              "    </div>\n",
              "  </div>\n"
            ]
          },
          "metadata": {},
          "execution_count": 12
        }
      ],
      "source": [
        "movies.head()"
      ],
      "id": "516834bf"
    },
    {
      "cell_type": "code",
      "execution_count": null,
      "metadata": {
        "id": "ab6c9ea8"
      },
      "outputs": [],
      "source": [
        "# then we replace the missing values marked as NaN with new value, i.e., 'unknown'\n",
        "movies['actor_1_name'] = movies['actor_1_name'].replace(np.nan, 'unknown')\n",
        "movies['actor_2_name'] = movies['actor_2_name'].replace(np.nan, 'unknown')\n",
        "movies['actor_3_name'] = movies['actor_3_name'].replace(np.nan, 'unknown')\n",
        "movies['director_name'] = movies['director_name'].replace(np.nan, 'unknown')\n",
        "movies['plot_keywords'] = movies['plot_keywords'].replace(np.nan, 'unknown')"
      ],
      "id": "ab6c9ea8"
    },
    {
      "cell_type": "code",
      "execution_count": null,
      "metadata": {
        "colab": {
          "base_uri": "https://localhost:8080/",
          "height": 206
        },
        "id": "5e9a97ea",
        "outputId": "bd2af18a-20e4-4f50-94a9-8f726cae7a19"
      },
      "outputs": [
        {
          "output_type": "execute_result",
          "data": {
            "text/plain": [
              "       director_name     actor_1_name      actor_2_name          actor_3_name  \\\n",
              "0      James Cameron      CCH Pounder  Joel David Moore             Wes Studi   \n",
              "1     Gore Verbinski      Johnny Depp     Orlando Bloom        Jack Davenport   \n",
              "2         Sam Mendes  Christoph Waltz      Rory Kinnear      Stephanie Sigman   \n",
              "3  Christopher Nolan        Tom Hardy    Christian Bale  Joseph Gordon-Levitt   \n",
              "4        Doug Walker      Doug Walker        Rob Walker               unknown   \n",
              "\n",
              "                            genres  \\\n",
              "0  Action|Adventure|Fantasy|Sci-Fi   \n",
              "1         Action|Adventure|Fantasy   \n",
              "2        Action|Adventure|Thriller   \n",
              "3                  Action|Thriller   \n",
              "4                      Documentary   \n",
              "\n",
              "                                         movie_title  \\\n",
              "0                                            Avatar    \n",
              "1          Pirates of the Caribbean: At World's End    \n",
              "2                                           Spectre    \n",
              "3                             The Dark Knight Rises    \n",
              "4  Star Wars: Episode VII - The Force Awakens    ...   \n",
              "\n",
              "                                       plot_keywords  \n",
              "0             avatar|future|marine|native|paraplegic  \n",
              "1  goddess|marriage ceremony|marriage proposal|pi...  \n",
              "2                bomb|espionage|sequel|spy|terrorist  \n",
              "3  deception|imprisonment|lawlessness|police offi...  \n",
              "4                                            unknown  "
            ],
            "text/html": [
              "\n",
              "\n",
              "  <div id=\"df-e37d85bc-788d-41e1-8b8e-fa6e925bc7ea\">\n",
              "    <div class=\"colab-df-container\">\n",
              "      <div>\n",
              "<style scoped>\n",
              "    .dataframe tbody tr th:only-of-type {\n",
              "        vertical-align: middle;\n",
              "    }\n",
              "\n",
              "    .dataframe tbody tr th {\n",
              "        vertical-align: top;\n",
              "    }\n",
              "\n",
              "    .dataframe thead th {\n",
              "        text-align: right;\n",
              "    }\n",
              "</style>\n",
              "<table border=\"1\" class=\"dataframe\">\n",
              "  <thead>\n",
              "    <tr style=\"text-align: right;\">\n",
              "      <th></th>\n",
              "      <th>director_name</th>\n",
              "      <th>actor_1_name</th>\n",
              "      <th>actor_2_name</th>\n",
              "      <th>actor_3_name</th>\n",
              "      <th>genres</th>\n",
              "      <th>movie_title</th>\n",
              "      <th>plot_keywords</th>\n",
              "    </tr>\n",
              "  </thead>\n",
              "  <tbody>\n",
              "    <tr>\n",
              "      <th>0</th>\n",
              "      <td>James Cameron</td>\n",
              "      <td>CCH Pounder</td>\n",
              "      <td>Joel David Moore</td>\n",
              "      <td>Wes Studi</td>\n",
              "      <td>Action|Adventure|Fantasy|Sci-Fi</td>\n",
              "      <td>Avatar</td>\n",
              "      <td>avatar|future|marine|native|paraplegic</td>\n",
              "    </tr>\n",
              "    <tr>\n",
              "      <th>1</th>\n",
              "      <td>Gore Verbinski</td>\n",
              "      <td>Johnny Depp</td>\n",
              "      <td>Orlando Bloom</td>\n",
              "      <td>Jack Davenport</td>\n",
              "      <td>Action|Adventure|Fantasy</td>\n",
              "      <td>Pirates of the Caribbean: At World's End</td>\n",
              "      <td>goddess|marriage ceremony|marriage proposal|pi...</td>\n",
              "    </tr>\n",
              "    <tr>\n",
              "      <th>2</th>\n",
              "      <td>Sam Mendes</td>\n",
              "      <td>Christoph Waltz</td>\n",
              "      <td>Rory Kinnear</td>\n",
              "      <td>Stephanie Sigman</td>\n",
              "      <td>Action|Adventure|Thriller</td>\n",
              "      <td>Spectre</td>\n",
              "      <td>bomb|espionage|sequel|spy|terrorist</td>\n",
              "    </tr>\n",
              "    <tr>\n",
              "      <th>3</th>\n",
              "      <td>Christopher Nolan</td>\n",
              "      <td>Tom Hardy</td>\n",
              "      <td>Christian Bale</td>\n",
              "      <td>Joseph Gordon-Levitt</td>\n",
              "      <td>Action|Thriller</td>\n",
              "      <td>The Dark Knight Rises</td>\n",
              "      <td>deception|imprisonment|lawlessness|police offi...</td>\n",
              "    </tr>\n",
              "    <tr>\n",
              "      <th>4</th>\n",
              "      <td>Doug Walker</td>\n",
              "      <td>Doug Walker</td>\n",
              "      <td>Rob Walker</td>\n",
              "      <td>unknown</td>\n",
              "      <td>Documentary</td>\n",
              "      <td>Star Wars: Episode VII - The Force Awakens    ...</td>\n",
              "      <td>unknown</td>\n",
              "    </tr>\n",
              "  </tbody>\n",
              "</table>\n",
              "</div>\n",
              "      <button class=\"colab-df-convert\" onclick=\"convertToInteractive('df-e37d85bc-788d-41e1-8b8e-fa6e925bc7ea')\"\n",
              "              title=\"Convert this dataframe to an interactive table.\"\n",
              "              style=\"display:none;\">\n",
              "\n",
              "  <svg xmlns=\"http://www.w3.org/2000/svg\" height=\"24px\"viewBox=\"0 0 24 24\"\n",
              "       width=\"24px\">\n",
              "    <path d=\"M0 0h24v24H0V0z\" fill=\"none\"/>\n",
              "    <path d=\"M18.56 5.44l.94 2.06.94-2.06 2.06-.94-2.06-.94-.94-2.06-.94 2.06-2.06.94zm-11 1L8.5 8.5l.94-2.06 2.06-.94-2.06-.94L8.5 2.5l-.94 2.06-2.06.94zm10 10l.94 2.06.94-2.06 2.06-.94-2.06-.94-.94-2.06-.94 2.06-2.06.94z\"/><path d=\"M17.41 7.96l-1.37-1.37c-.4-.4-.92-.59-1.43-.59-.52 0-1.04.2-1.43.59L10.3 9.45l-7.72 7.72c-.78.78-.78 2.05 0 2.83L4 21.41c.39.39.9.59 1.41.59.51 0 1.02-.2 1.41-.59l7.78-7.78 2.81-2.81c.8-.78.8-2.07 0-2.86zM5.41 20L4 18.59l7.72-7.72 1.47 1.35L5.41 20z\"/>\n",
              "  </svg>\n",
              "      </button>\n",
              "\n",
              "\n",
              "\n",
              "    <div id=\"df-1874d6ae-0fd4-4228-b854-7dfe8038d8a1\">\n",
              "      <button class=\"colab-df-quickchart\" onclick=\"quickchart('df-1874d6ae-0fd4-4228-b854-7dfe8038d8a1')\"\n",
              "              title=\"Suggest charts.\"\n",
              "              style=\"display:none;\">\n",
              "\n",
              "<svg xmlns=\"http://www.w3.org/2000/svg\" height=\"24px\"viewBox=\"0 0 24 24\"\n",
              "     width=\"24px\">\n",
              "    <g>\n",
              "        <path d=\"M19 3H5c-1.1 0-2 .9-2 2v14c0 1.1.9 2 2 2h14c1.1 0 2-.9 2-2V5c0-1.1-.9-2-2-2zM9 17H7v-7h2v7zm4 0h-2V7h2v10zm4 0h-2v-4h2v4z\"/>\n",
              "    </g>\n",
              "</svg>\n",
              "      </button>\n",
              "    </div>\n",
              "\n",
              "<style>\n",
              "  .colab-df-quickchart {\n",
              "    background-color: #E8F0FE;\n",
              "    border: none;\n",
              "    border-radius: 50%;\n",
              "    cursor: pointer;\n",
              "    display: none;\n",
              "    fill: #1967D2;\n",
              "    height: 32px;\n",
              "    padding: 0 0 0 0;\n",
              "    width: 32px;\n",
              "  }\n",
              "\n",
              "  .colab-df-quickchart:hover {\n",
              "    background-color: #E2EBFA;\n",
              "    box-shadow: 0px 1px 2px rgba(60, 64, 67, 0.3), 0px 1px 3px 1px rgba(60, 64, 67, 0.15);\n",
              "    fill: #174EA6;\n",
              "  }\n",
              "\n",
              "  [theme=dark] .colab-df-quickchart {\n",
              "    background-color: #3B4455;\n",
              "    fill: #D2E3FC;\n",
              "  }\n",
              "\n",
              "  [theme=dark] .colab-df-quickchart:hover {\n",
              "    background-color: #434B5C;\n",
              "    box-shadow: 0px 1px 3px 1px rgba(0, 0, 0, 0.15);\n",
              "    filter: drop-shadow(0px 1px 2px rgba(0, 0, 0, 0.3));\n",
              "    fill: #FFFFFF;\n",
              "  }\n",
              "</style>\n",
              "\n",
              "    <script>\n",
              "      async function quickchart(key) {\n",
              "        const containerElement = document.querySelector('#' + key);\n",
              "        const charts = await google.colab.kernel.invokeFunction(\n",
              "            'suggestCharts', [key], {});\n",
              "      }\n",
              "    </script>\n",
              "\n",
              "      <script>\n",
              "\n",
              "function displayQuickchartButton(domScope) {\n",
              "  let quickchartButtonEl =\n",
              "    domScope.querySelector('#df-1874d6ae-0fd4-4228-b854-7dfe8038d8a1 button.colab-df-quickchart');\n",
              "  quickchartButtonEl.style.display =\n",
              "    google.colab.kernel.accessAllowed ? 'block' : 'none';\n",
              "}\n",
              "\n",
              "        displayQuickchartButton(document);\n",
              "      </script>\n",
              "      <style>\n",
              "    .colab-df-container {\n",
              "      display:flex;\n",
              "      flex-wrap:wrap;\n",
              "      gap: 12px;\n",
              "    }\n",
              "\n",
              "    .colab-df-convert {\n",
              "      background-color: #E8F0FE;\n",
              "      border: none;\n",
              "      border-radius: 50%;\n",
              "      cursor: pointer;\n",
              "      display: none;\n",
              "      fill: #1967D2;\n",
              "      height: 32px;\n",
              "      padding: 0 0 0 0;\n",
              "      width: 32px;\n",
              "    }\n",
              "\n",
              "    .colab-df-convert:hover {\n",
              "      background-color: #E2EBFA;\n",
              "      box-shadow: 0px 1px 2px rgba(60, 64, 67, 0.3), 0px 1px 3px 1px rgba(60, 64, 67, 0.15);\n",
              "      fill: #174EA6;\n",
              "    }\n",
              "\n",
              "    [theme=dark] .colab-df-convert {\n",
              "      background-color: #3B4455;\n",
              "      fill: #D2E3FC;\n",
              "    }\n",
              "\n",
              "    [theme=dark] .colab-df-convert:hover {\n",
              "      background-color: #434B5C;\n",
              "      box-shadow: 0px 1px 3px 1px rgba(0, 0, 0, 0.15);\n",
              "      filter: drop-shadow(0px 1px 2px rgba(0, 0, 0, 0.3));\n",
              "      fill: #FFFFFF;\n",
              "    }\n",
              "  </style>\n",
              "\n",
              "      <script>\n",
              "        const buttonEl =\n",
              "          document.querySelector('#df-e37d85bc-788d-41e1-8b8e-fa6e925bc7ea button.colab-df-convert');\n",
              "        buttonEl.style.display =\n",
              "          google.colab.kernel.accessAllowed ? 'block' : 'none';\n",
              "\n",
              "        async function convertToInteractive(key) {\n",
              "          const element = document.querySelector('#df-e37d85bc-788d-41e1-8b8e-fa6e925bc7ea');\n",
              "          const dataTable =\n",
              "            await google.colab.kernel.invokeFunction('convertToInteractive',\n",
              "                                                     [key], {});\n",
              "          if (!dataTable) return;\n",
              "\n",
              "          const docLinkHtml = 'Like what you see? Visit the ' +\n",
              "            '<a target=\"_blank\" href=https://colab.research.google.com/notebooks/data_table.ipynb>data table notebook</a>'\n",
              "            + ' to learn more about interactive tables.';\n",
              "          element.innerHTML = '';\n",
              "          dataTable['output_type'] = 'display_data';\n",
              "          await google.colab.output.renderOutput(dataTable, element);\n",
              "          const docLink = document.createElement('div');\n",
              "          docLink.innerHTML = docLinkHtml;\n",
              "          element.appendChild(docLink);\n",
              "        }\n",
              "      </script>\n",
              "    </div>\n",
              "  </div>\n"
            ]
          },
          "metadata": {},
          "execution_count": 14
        }
      ],
      "source": [
        "movies.head()"
      ],
      "id": "5e9a97ea"
    },
    {
      "cell_type": "code",
      "execution_count": null,
      "metadata": {
        "id": "70e7c467"
      },
      "outputs": [],
      "source": [
        "# drop duplicate values\n",
        "movies.drop_duplicates(subset=\"movie_title\", keep='last',inplace=True)"
      ],
      "id": "70e7c467"
    },
    {
      "cell_type": "code",
      "execution_count": null,
      "metadata": {
        "colab": {
          "base_uri": "https://localhost:8080/"
        },
        "id": "6649fbf3",
        "outputId": "00a8081c-784e-472b-f968-d409585d8fe7"
      },
      "outputs": [
        {
          "output_type": "execute_result",
          "data": {
            "text/plain": [
              "(4917, 7)"
            ]
          },
          "metadata": {},
          "execution_count": 16
        }
      ],
      "source": [
        "# now check the shape again\n",
        "movies.shape"
      ],
      "id": "6649fbf3"
    },
    {
      "cell_type": "code",
      "execution_count": null,
      "metadata": {
        "colab": {
          "base_uri": "https://localhost:8080/"
        },
        "id": "3ae8dc20",
        "outputId": "f74dddb7-a14d-4cee-92da-d3aba5ed1bbc"
      },
      "outputs": [
        {
          "output_type": "execute_result",
          "data": {
            "text/plain": [
              "director_name    0\n",
              "actor_1_name     0\n",
              "actor_2_name     0\n",
              "actor_3_name     0\n",
              "genres           0\n",
              "movie_title      0\n",
              "plot_keywords    0\n",
              "dtype: int64"
            ]
          },
          "metadata": {},
          "execution_count": 17
        }
      ],
      "source": [
        "movies.isnull().sum()"
      ],
      "id": "3ae8dc20"
    },
    {
      "cell_type": "code",
      "execution_count": null,
      "metadata": {
        "colab": {
          "base_uri": "https://localhost:8080/"
        },
        "id": "ef35eecf",
        "outputId": "e009bdc3-807e-4031-c884-99d3f7047e34"
      },
      "outputs": [
        {
          "output_type": "execute_result",
          "data": {
            "text/plain": [
              "director_name    0\n",
              "actor_1_name     0\n",
              "actor_2_name     0\n",
              "actor_3_name     0\n",
              "genres           0\n",
              "movie_title      0\n",
              "plot_keywords    0\n",
              "dtype: int64"
            ]
          },
          "metadata": {},
          "execution_count": 18
        }
      ],
      "source": [
        "# Then we drop the missing values that cannot filled properly above\n",
        "movies = movies.dropna()\n",
        "movies = movies.reset_index(drop=True)\n",
        "movies.isnull().sum()"
      ],
      "id": "ef35eecf"
    },
    {
      "cell_type": "code",
      "execution_count": null,
      "metadata": {
        "colab": {
          "base_uri": "https://localhost:8080/",
          "height": 423
        },
        "id": "e0c39462",
        "outputId": "9a517305-b352-4572-fa99-be464b2a03c5"
      },
      "outputs": [
        {
          "output_type": "execute_result",
          "data": {
            "text/plain": [
              "          director_name             actor_1_name       actor_2_name  \\\n",
              "567        Oliver Stone           Frank Langella   Austin Pendleton   \n",
              "628         Mike Newell            Julia Roberts      Kirsten Dunst   \n",
              "642       David Fincher                Brad Pitt          Meat Loaf   \n",
              "709     Steven Zaillian            Robert Duvall   Kathleen Quinlan   \n",
              "1094       Gus Van Sant        F. Murray Abraham          Rob Brown   \n",
              "...                 ...                      ...                ...   \n",
              "4877  Bradley Rust Gray                Zoe Kazan       Mark Rendall   \n",
              "4892      Alex Kendrick           Shannen Fields        Lisa Arnold   \n",
              "4896         Jim Chuchu               Paul Ogola      Olwenya Maina   \n",
              "4901       Jafar Panahi  Fereshteh Sadre Orafaiy  Nargess Mamizadeh   \n",
              "4904       Tadeo Garcia      Tatiana Suarez-Pico     Michael Cortez   \n",
              "\n",
              "             actor_3_name genres                       movie_title  \\\n",
              "567   John Buffalo Mailer  Drama  Wall Street: Money Never Sleeps    \n",
              "628         Marian Seldes  Drama                  Mona Lisa Smile    \n",
              "642     Eugenie Bondurant  Drama                       Fight Club    \n",
              "709        Sydney Pollack  Drama                   A Civil Action    \n",
              "1094        Michael Nouri  Drama                Finding Forrester    \n",
              "...                   ...    ...                               ...   \n",
              "4877        Jordan Scovel  Drama               The Exploding Girl    \n",
              "4892     Janet Lee Dapper  Drama                         Flywheel    \n",
              "4896       Mugambi Nthiga  Drama             Stories of Our Lives    \n",
              "4901     Mojgan Faramarzi  Drama                       The Circle    \n",
              "4904          Eric Ambriz  Drama                   On the Downlow    \n",
              "\n",
              "                                          plot_keywords  \n",
              "567         corporate greed|crisis|economy|greed|mentor  \n",
              "628        art|college|school|student|wellesley college  \n",
              "642   anti establishment|dark humor|fighting|multipl...  \n",
              "709           1980s|law firm|lawsuit|lawyer|toxic waste  \n",
              "1094          basketball|mentor|new york|school|writing  \n",
              "...                                                 ...  \n",
              "4877        friend|hospital|low budget film|ring|stoned  \n",
              "4892  baby|car salesman|christian film|pregnancy|use...  \n",
              "4896                                            unknown  \n",
              "4901          abortion|bus|hospital|prison|prostitution  \n",
              "4904  gang initiation|gunplay|hazing|latino|shakespe...  \n",
              "\n",
              "[232 rows x 7 columns]"
            ],
            "text/html": [
              "\n",
              "\n",
              "  <div id=\"df-adf8b55b-da39-4bdd-b911-2a6144459b26\">\n",
              "    <div class=\"colab-df-container\">\n",
              "      <div>\n",
              "<style scoped>\n",
              "    .dataframe tbody tr th:only-of-type {\n",
              "        vertical-align: middle;\n",
              "    }\n",
              "\n",
              "    .dataframe tbody tr th {\n",
              "        vertical-align: top;\n",
              "    }\n",
              "\n",
              "    .dataframe thead th {\n",
              "        text-align: right;\n",
              "    }\n",
              "</style>\n",
              "<table border=\"1\" class=\"dataframe\">\n",
              "  <thead>\n",
              "    <tr style=\"text-align: right;\">\n",
              "      <th></th>\n",
              "      <th>director_name</th>\n",
              "      <th>actor_1_name</th>\n",
              "      <th>actor_2_name</th>\n",
              "      <th>actor_3_name</th>\n",
              "      <th>genres</th>\n",
              "      <th>movie_title</th>\n",
              "      <th>plot_keywords</th>\n",
              "    </tr>\n",
              "  </thead>\n",
              "  <tbody>\n",
              "    <tr>\n",
              "      <th>567</th>\n",
              "      <td>Oliver Stone</td>\n",
              "      <td>Frank Langella</td>\n",
              "      <td>Austin Pendleton</td>\n",
              "      <td>John Buffalo Mailer</td>\n",
              "      <td>Drama</td>\n",
              "      <td>Wall Street: Money Never Sleeps</td>\n",
              "      <td>corporate greed|crisis|economy|greed|mentor</td>\n",
              "    </tr>\n",
              "    <tr>\n",
              "      <th>628</th>\n",
              "      <td>Mike Newell</td>\n",
              "      <td>Julia Roberts</td>\n",
              "      <td>Kirsten Dunst</td>\n",
              "      <td>Marian Seldes</td>\n",
              "      <td>Drama</td>\n",
              "      <td>Mona Lisa Smile</td>\n",
              "      <td>art|college|school|student|wellesley college</td>\n",
              "    </tr>\n",
              "    <tr>\n",
              "      <th>642</th>\n",
              "      <td>David Fincher</td>\n",
              "      <td>Brad Pitt</td>\n",
              "      <td>Meat Loaf</td>\n",
              "      <td>Eugenie Bondurant</td>\n",
              "      <td>Drama</td>\n",
              "      <td>Fight Club</td>\n",
              "      <td>anti establishment|dark humor|fighting|multipl...</td>\n",
              "    </tr>\n",
              "    <tr>\n",
              "      <th>709</th>\n",
              "      <td>Steven Zaillian</td>\n",
              "      <td>Robert Duvall</td>\n",
              "      <td>Kathleen Quinlan</td>\n",
              "      <td>Sydney Pollack</td>\n",
              "      <td>Drama</td>\n",
              "      <td>A Civil Action</td>\n",
              "      <td>1980s|law firm|lawsuit|lawyer|toxic waste</td>\n",
              "    </tr>\n",
              "    <tr>\n",
              "      <th>1094</th>\n",
              "      <td>Gus Van Sant</td>\n",
              "      <td>F. Murray Abraham</td>\n",
              "      <td>Rob Brown</td>\n",
              "      <td>Michael Nouri</td>\n",
              "      <td>Drama</td>\n",
              "      <td>Finding Forrester</td>\n",
              "      <td>basketball|mentor|new york|school|writing</td>\n",
              "    </tr>\n",
              "    <tr>\n",
              "      <th>...</th>\n",
              "      <td>...</td>\n",
              "      <td>...</td>\n",
              "      <td>...</td>\n",
              "      <td>...</td>\n",
              "      <td>...</td>\n",
              "      <td>...</td>\n",
              "      <td>...</td>\n",
              "    </tr>\n",
              "    <tr>\n",
              "      <th>4877</th>\n",
              "      <td>Bradley Rust Gray</td>\n",
              "      <td>Zoe Kazan</td>\n",
              "      <td>Mark Rendall</td>\n",
              "      <td>Jordan Scovel</td>\n",
              "      <td>Drama</td>\n",
              "      <td>The Exploding Girl</td>\n",
              "      <td>friend|hospital|low budget film|ring|stoned</td>\n",
              "    </tr>\n",
              "    <tr>\n",
              "      <th>4892</th>\n",
              "      <td>Alex Kendrick</td>\n",
              "      <td>Shannen Fields</td>\n",
              "      <td>Lisa Arnold</td>\n",
              "      <td>Janet Lee Dapper</td>\n",
              "      <td>Drama</td>\n",
              "      <td>Flywheel</td>\n",
              "      <td>baby|car salesman|christian film|pregnancy|use...</td>\n",
              "    </tr>\n",
              "    <tr>\n",
              "      <th>4896</th>\n",
              "      <td>Jim Chuchu</td>\n",
              "      <td>Paul Ogola</td>\n",
              "      <td>Olwenya Maina</td>\n",
              "      <td>Mugambi Nthiga</td>\n",
              "      <td>Drama</td>\n",
              "      <td>Stories of Our Lives</td>\n",
              "      <td>unknown</td>\n",
              "    </tr>\n",
              "    <tr>\n",
              "      <th>4901</th>\n",
              "      <td>Jafar Panahi</td>\n",
              "      <td>Fereshteh Sadre Orafaiy</td>\n",
              "      <td>Nargess Mamizadeh</td>\n",
              "      <td>Mojgan Faramarzi</td>\n",
              "      <td>Drama</td>\n",
              "      <td>The Circle</td>\n",
              "      <td>abortion|bus|hospital|prison|prostitution</td>\n",
              "    </tr>\n",
              "    <tr>\n",
              "      <th>4904</th>\n",
              "      <td>Tadeo Garcia</td>\n",
              "      <td>Tatiana Suarez-Pico</td>\n",
              "      <td>Michael Cortez</td>\n",
              "      <td>Eric Ambriz</td>\n",
              "      <td>Drama</td>\n",
              "      <td>On the Downlow</td>\n",
              "      <td>gang initiation|gunplay|hazing|latino|shakespe...</td>\n",
              "    </tr>\n",
              "  </tbody>\n",
              "</table>\n",
              "<p>232 rows × 7 columns</p>\n",
              "</div>\n",
              "      <button class=\"colab-df-convert\" onclick=\"convertToInteractive('df-adf8b55b-da39-4bdd-b911-2a6144459b26')\"\n",
              "              title=\"Convert this dataframe to an interactive table.\"\n",
              "              style=\"display:none;\">\n",
              "\n",
              "  <svg xmlns=\"http://www.w3.org/2000/svg\" height=\"24px\"viewBox=\"0 0 24 24\"\n",
              "       width=\"24px\">\n",
              "    <path d=\"M0 0h24v24H0V0z\" fill=\"none\"/>\n",
              "    <path d=\"M18.56 5.44l.94 2.06.94-2.06 2.06-.94-2.06-.94-.94-2.06-.94 2.06-2.06.94zm-11 1L8.5 8.5l.94-2.06 2.06-.94-2.06-.94L8.5 2.5l-.94 2.06-2.06.94zm10 10l.94 2.06.94-2.06 2.06-.94-2.06-.94-.94-2.06-.94 2.06-2.06.94z\"/><path d=\"M17.41 7.96l-1.37-1.37c-.4-.4-.92-.59-1.43-.59-.52 0-1.04.2-1.43.59L10.3 9.45l-7.72 7.72c-.78.78-.78 2.05 0 2.83L4 21.41c.39.39.9.59 1.41.59.51 0 1.02-.2 1.41-.59l7.78-7.78 2.81-2.81c.8-.78.8-2.07 0-2.86zM5.41 20L4 18.59l7.72-7.72 1.47 1.35L5.41 20z\"/>\n",
              "  </svg>\n",
              "      </button>\n",
              "\n",
              "\n",
              "\n",
              "    <div id=\"df-3ebbe42b-5a00-42a7-9c2f-b15a60cd57e8\">\n",
              "      <button class=\"colab-df-quickchart\" onclick=\"quickchart('df-3ebbe42b-5a00-42a7-9c2f-b15a60cd57e8')\"\n",
              "              title=\"Suggest charts.\"\n",
              "              style=\"display:none;\">\n",
              "\n",
              "<svg xmlns=\"http://www.w3.org/2000/svg\" height=\"24px\"viewBox=\"0 0 24 24\"\n",
              "     width=\"24px\">\n",
              "    <g>\n",
              "        <path d=\"M19 3H5c-1.1 0-2 .9-2 2v14c0 1.1.9 2 2 2h14c1.1 0 2-.9 2-2V5c0-1.1-.9-2-2-2zM9 17H7v-7h2v7zm4 0h-2V7h2v10zm4 0h-2v-4h2v4z\"/>\n",
              "    </g>\n",
              "</svg>\n",
              "      </button>\n",
              "    </div>\n",
              "\n",
              "<style>\n",
              "  .colab-df-quickchart {\n",
              "    background-color: #E8F0FE;\n",
              "    border: none;\n",
              "    border-radius: 50%;\n",
              "    cursor: pointer;\n",
              "    display: none;\n",
              "    fill: #1967D2;\n",
              "    height: 32px;\n",
              "    padding: 0 0 0 0;\n",
              "    width: 32px;\n",
              "  }\n",
              "\n",
              "  .colab-df-quickchart:hover {\n",
              "    background-color: #E2EBFA;\n",
              "    box-shadow: 0px 1px 2px rgba(60, 64, 67, 0.3), 0px 1px 3px 1px rgba(60, 64, 67, 0.15);\n",
              "    fill: #174EA6;\n",
              "  }\n",
              "\n",
              "  [theme=dark] .colab-df-quickchart {\n",
              "    background-color: #3B4455;\n",
              "    fill: #D2E3FC;\n",
              "  }\n",
              "\n",
              "  [theme=dark] .colab-df-quickchart:hover {\n",
              "    background-color: #434B5C;\n",
              "    box-shadow: 0px 1px 3px 1px rgba(0, 0, 0, 0.15);\n",
              "    filter: drop-shadow(0px 1px 2px rgba(0, 0, 0, 0.3));\n",
              "    fill: #FFFFFF;\n",
              "  }\n",
              "</style>\n",
              "\n",
              "    <script>\n",
              "      async function quickchart(key) {\n",
              "        const containerElement = document.querySelector('#' + key);\n",
              "        const charts = await google.colab.kernel.invokeFunction(\n",
              "            'suggestCharts', [key], {});\n",
              "      }\n",
              "    </script>\n",
              "\n",
              "      <script>\n",
              "\n",
              "function displayQuickchartButton(domScope) {\n",
              "  let quickchartButtonEl =\n",
              "    domScope.querySelector('#df-3ebbe42b-5a00-42a7-9c2f-b15a60cd57e8 button.colab-df-quickchart');\n",
              "  quickchartButtonEl.style.display =\n",
              "    google.colab.kernel.accessAllowed ? 'block' : 'none';\n",
              "}\n",
              "\n",
              "        displayQuickchartButton(document);\n",
              "      </script>\n",
              "      <style>\n",
              "    .colab-df-container {\n",
              "      display:flex;\n",
              "      flex-wrap:wrap;\n",
              "      gap: 12px;\n",
              "    }\n",
              "\n",
              "    .colab-df-convert {\n",
              "      background-color: #E8F0FE;\n",
              "      border: none;\n",
              "      border-radius: 50%;\n",
              "      cursor: pointer;\n",
              "      display: none;\n",
              "      fill: #1967D2;\n",
              "      height: 32px;\n",
              "      padding: 0 0 0 0;\n",
              "      width: 32px;\n",
              "    }\n",
              "\n",
              "    .colab-df-convert:hover {\n",
              "      background-color: #E2EBFA;\n",
              "      box-shadow: 0px 1px 2px rgba(60, 64, 67, 0.3), 0px 1px 3px 1px rgba(60, 64, 67, 0.15);\n",
              "      fill: #174EA6;\n",
              "    }\n",
              "\n",
              "    [theme=dark] .colab-df-convert {\n",
              "      background-color: #3B4455;\n",
              "      fill: #D2E3FC;\n",
              "    }\n",
              "\n",
              "    [theme=dark] .colab-df-convert:hover {\n",
              "      background-color: #434B5C;\n",
              "      box-shadow: 0px 1px 3px 1px rgba(0, 0, 0, 0.15);\n",
              "      filter: drop-shadow(0px 1px 2px rgba(0, 0, 0, 0.3));\n",
              "      fill: #FFFFFF;\n",
              "    }\n",
              "  </style>\n",
              "\n",
              "      <script>\n",
              "        const buttonEl =\n",
              "          document.querySelector('#df-adf8b55b-da39-4bdd-b911-2a6144459b26 button.colab-df-convert');\n",
              "        buttonEl.style.display =\n",
              "          google.colab.kernel.accessAllowed ? 'block' : 'none';\n",
              "\n",
              "        async function convertToInteractive(key) {\n",
              "          const element = document.querySelector('#df-adf8b55b-da39-4bdd-b911-2a6144459b26');\n",
              "          const dataTable =\n",
              "            await google.colab.kernel.invokeFunction('convertToInteractive',\n",
              "                                                     [key], {});\n",
              "          if (!dataTable) return;\n",
              "\n",
              "          const docLinkHtml = 'Like what you see? Visit the ' +\n",
              "            '<a target=\"_blank\" href=https://colab.research.google.com/notebooks/data_table.ipynb>data table notebook</a>'\n",
              "            + ' to learn more about interactive tables.';\n",
              "          element.innerHTML = '';\n",
              "          dataTable['output_type'] = 'display_data';\n",
              "          await google.colab.output.renderOutput(dataTable, element);\n",
              "          const docLink = document.createElement('div');\n",
              "          docLink.innerHTML = docLinkHtml;\n",
              "          element.appendChild(docLink);\n",
              "        }\n",
              "      </script>\n",
              "    </div>\n",
              "  </div>\n"
            ]
          },
          "metadata": {},
          "execution_count": 19
        }
      ],
      "source": [
        "movies.loc[(movies.genres=='Drama')]"
      ],
      "id": "e0c39462"
    },
    {
      "cell_type": "markdown",
      "metadata": {
        "id": "0ef45de3"
      },
      "source": [
        "## Data Preprocessing\n",
        "\n",
        "Since we are processing text data, so we need to perform basic preprocessing skills.\n",
        "As we can observe from the above movies dataframe, there are\n",
        "- mix of low-case, upcase, special characters (|) ...\n",
        "- we need to combine them together as one text record for each movie in the data\n",
        "\n",
        "\n",
        "So, we need to\n",
        "- convert all upcases to lowercases\n",
        "- keep only a-z, A-Z, 0-9 by removing other special characters\n"
      ],
      "id": "0ef45de3"
    },
    {
      "cell_type": "code",
      "execution_count": null,
      "metadata": {
        "id": "ebe73972"
      },
      "outputs": [],
      "source": [
        "# Build a function to apply the text cleaning techniques\n",
        "import re\n",
        "import string\n",
        "\n",
        "def clean_text_func(text):\n",
        "    '''Make text lowercase, removing special characters'''\n",
        "    text = text.lower()\n",
        "    # remove multiple whitespaces\n",
        "    text = re.sub('\\s+',' ', text)\n",
        "    # remove characters that not words\n",
        "    text=re.sub('[^a-zA-Z0-9]',' ',text)\n",
        "    return text\n",
        "\n",
        "clean_text = lambda x: clean_text_func(x)"
      ],
      "id": "ebe73972"
    },
    {
      "cell_type": "code",
      "execution_count": null,
      "metadata": {
        "id": "ded10892"
      },
      "outputs": [],
      "source": [
        "# we apply the function on each column and store the result to a new column with original name_cleaned\n",
        "\n",
        "cols = movies.columns\n",
        "for col in cols:\n",
        "    movies[col+'_cleaned'] = movies[col].apply(clean_text)"
      ],
      "id": "ded10892"
    },
    {
      "cell_type": "code",
      "execution_count": null,
      "metadata": {
        "id": "ed379d14",
        "colab": {
          "base_uri": "https://localhost:8080/",
          "height": 426
        },
        "outputId": "dcb8a7fc-7bcf-4bfd-d6f0-fd6bbc5d051d"
      },
      "outputs": [
        {
          "output_type": "execute_result",
          "data": {
            "text/plain": [
              "       director_name     actor_1_name      actor_2_name          actor_3_name  \\\n",
              "0      James Cameron      CCH Pounder  Joel David Moore             Wes Studi   \n",
              "1     Gore Verbinski      Johnny Depp     Orlando Bloom        Jack Davenport   \n",
              "2         Sam Mendes  Christoph Waltz      Rory Kinnear      Stephanie Sigman   \n",
              "3  Christopher Nolan        Tom Hardy    Christian Bale  Joseph Gordon-Levitt   \n",
              "4        Doug Walker      Doug Walker        Rob Walker               unknown   \n",
              "\n",
              "                            genres  \\\n",
              "0  Action|Adventure|Fantasy|Sci-Fi   \n",
              "1         Action|Adventure|Fantasy   \n",
              "2        Action|Adventure|Thriller   \n",
              "3                  Action|Thriller   \n",
              "4                      Documentary   \n",
              "\n",
              "                                         movie_title  \\\n",
              "0                                            Avatar    \n",
              "1          Pirates of the Caribbean: At World's End    \n",
              "2                                           Spectre    \n",
              "3                             The Dark Knight Rises    \n",
              "4  Star Wars: Episode VII - The Force Awakens    ...   \n",
              "\n",
              "                                       plot_keywords director_name_cleaned  \\\n",
              "0             avatar|future|marine|native|paraplegic         james cameron   \n",
              "1  goddess|marriage ceremony|marriage proposal|pi...        gore verbinski   \n",
              "2                bomb|espionage|sequel|spy|terrorist            sam mendes   \n",
              "3  deception|imprisonment|lawlessness|police offi...     christopher nolan   \n",
              "4                                            unknown           doug walker   \n",
              "\n",
              "  actor_1_name_cleaned actor_2_name_cleaned  actor_3_name_cleaned  \\\n",
              "0          cch pounder     joel david moore             wes studi   \n",
              "1          johnny depp        orlando bloom        jack davenport   \n",
              "2      christoph waltz         rory kinnear      stephanie sigman   \n",
              "3            tom hardy       christian bale  joseph gordon levitt   \n",
              "4          doug walker           rob walker               unknown   \n",
              "\n",
              "                    genres_cleaned  \\\n",
              "0  action adventure fantasy sci fi   \n",
              "1         action adventure fantasy   \n",
              "2        action adventure thriller   \n",
              "3                  action thriller   \n",
              "4                      documentary   \n",
              "\n",
              "                           movie_title_cleaned  \\\n",
              "0                                      avatar    \n",
              "1    pirates of the caribbean  at world s end    \n",
              "2                                     spectre    \n",
              "3                       the dark knight rises    \n",
              "4  star wars  episode vii   the force awakens    \n",
              "\n",
              "                               plot_keywords_cleaned  \n",
              "0             avatar future marine native paraplegic  \n",
              "1  goddess marriage ceremony marriage proposal pi...  \n",
              "2                bomb espionage sequel spy terrorist  \n",
              "3  deception imprisonment lawlessness police offi...  \n",
              "4                                            unknown  "
            ],
            "text/html": [
              "\n",
              "\n",
              "  <div id=\"df-01156513-7578-4b18-8156-419616b4b87a\">\n",
              "    <div class=\"colab-df-container\">\n",
              "      <div>\n",
              "<style scoped>\n",
              "    .dataframe tbody tr th:only-of-type {\n",
              "        vertical-align: middle;\n",
              "    }\n",
              "\n",
              "    .dataframe tbody tr th {\n",
              "        vertical-align: top;\n",
              "    }\n",
              "\n",
              "    .dataframe thead th {\n",
              "        text-align: right;\n",
              "    }\n",
              "</style>\n",
              "<table border=\"1\" class=\"dataframe\">\n",
              "  <thead>\n",
              "    <tr style=\"text-align: right;\">\n",
              "      <th></th>\n",
              "      <th>director_name</th>\n",
              "      <th>actor_1_name</th>\n",
              "      <th>actor_2_name</th>\n",
              "      <th>actor_3_name</th>\n",
              "      <th>genres</th>\n",
              "      <th>movie_title</th>\n",
              "      <th>plot_keywords</th>\n",
              "      <th>director_name_cleaned</th>\n",
              "      <th>actor_1_name_cleaned</th>\n",
              "      <th>actor_2_name_cleaned</th>\n",
              "      <th>actor_3_name_cleaned</th>\n",
              "      <th>genres_cleaned</th>\n",
              "      <th>movie_title_cleaned</th>\n",
              "      <th>plot_keywords_cleaned</th>\n",
              "    </tr>\n",
              "  </thead>\n",
              "  <tbody>\n",
              "    <tr>\n",
              "      <th>0</th>\n",
              "      <td>James Cameron</td>\n",
              "      <td>CCH Pounder</td>\n",
              "      <td>Joel David Moore</td>\n",
              "      <td>Wes Studi</td>\n",
              "      <td>Action|Adventure|Fantasy|Sci-Fi</td>\n",
              "      <td>Avatar</td>\n",
              "      <td>avatar|future|marine|native|paraplegic</td>\n",
              "      <td>james cameron</td>\n",
              "      <td>cch pounder</td>\n",
              "      <td>joel david moore</td>\n",
              "      <td>wes studi</td>\n",
              "      <td>action adventure fantasy sci fi</td>\n",
              "      <td>avatar</td>\n",
              "      <td>avatar future marine native paraplegic</td>\n",
              "    </tr>\n",
              "    <tr>\n",
              "      <th>1</th>\n",
              "      <td>Gore Verbinski</td>\n",
              "      <td>Johnny Depp</td>\n",
              "      <td>Orlando Bloom</td>\n",
              "      <td>Jack Davenport</td>\n",
              "      <td>Action|Adventure|Fantasy</td>\n",
              "      <td>Pirates of the Caribbean: At World's End</td>\n",
              "      <td>goddess|marriage ceremony|marriage proposal|pi...</td>\n",
              "      <td>gore verbinski</td>\n",
              "      <td>johnny depp</td>\n",
              "      <td>orlando bloom</td>\n",
              "      <td>jack davenport</td>\n",
              "      <td>action adventure fantasy</td>\n",
              "      <td>pirates of the caribbean  at world s end</td>\n",
              "      <td>goddess marriage ceremony marriage proposal pi...</td>\n",
              "    </tr>\n",
              "    <tr>\n",
              "      <th>2</th>\n",
              "      <td>Sam Mendes</td>\n",
              "      <td>Christoph Waltz</td>\n",
              "      <td>Rory Kinnear</td>\n",
              "      <td>Stephanie Sigman</td>\n",
              "      <td>Action|Adventure|Thriller</td>\n",
              "      <td>Spectre</td>\n",
              "      <td>bomb|espionage|sequel|spy|terrorist</td>\n",
              "      <td>sam mendes</td>\n",
              "      <td>christoph waltz</td>\n",
              "      <td>rory kinnear</td>\n",
              "      <td>stephanie sigman</td>\n",
              "      <td>action adventure thriller</td>\n",
              "      <td>spectre</td>\n",
              "      <td>bomb espionage sequel spy terrorist</td>\n",
              "    </tr>\n",
              "    <tr>\n",
              "      <th>3</th>\n",
              "      <td>Christopher Nolan</td>\n",
              "      <td>Tom Hardy</td>\n",
              "      <td>Christian Bale</td>\n",
              "      <td>Joseph Gordon-Levitt</td>\n",
              "      <td>Action|Thriller</td>\n",
              "      <td>The Dark Knight Rises</td>\n",
              "      <td>deception|imprisonment|lawlessness|police offi...</td>\n",
              "      <td>christopher nolan</td>\n",
              "      <td>tom hardy</td>\n",
              "      <td>christian bale</td>\n",
              "      <td>joseph gordon levitt</td>\n",
              "      <td>action thriller</td>\n",
              "      <td>the dark knight rises</td>\n",
              "      <td>deception imprisonment lawlessness police offi...</td>\n",
              "    </tr>\n",
              "    <tr>\n",
              "      <th>4</th>\n",
              "      <td>Doug Walker</td>\n",
              "      <td>Doug Walker</td>\n",
              "      <td>Rob Walker</td>\n",
              "      <td>unknown</td>\n",
              "      <td>Documentary</td>\n",
              "      <td>Star Wars: Episode VII - The Force Awakens    ...</td>\n",
              "      <td>unknown</td>\n",
              "      <td>doug walker</td>\n",
              "      <td>doug walker</td>\n",
              "      <td>rob walker</td>\n",
              "      <td>unknown</td>\n",
              "      <td>documentary</td>\n",
              "      <td>star wars  episode vii   the force awakens</td>\n",
              "      <td>unknown</td>\n",
              "    </tr>\n",
              "  </tbody>\n",
              "</table>\n",
              "</div>\n",
              "      <button class=\"colab-df-convert\" onclick=\"convertToInteractive('df-01156513-7578-4b18-8156-419616b4b87a')\"\n",
              "              title=\"Convert this dataframe to an interactive table.\"\n",
              "              style=\"display:none;\">\n",
              "\n",
              "  <svg xmlns=\"http://www.w3.org/2000/svg\" height=\"24px\"viewBox=\"0 0 24 24\"\n",
              "       width=\"24px\">\n",
              "    <path d=\"M0 0h24v24H0V0z\" fill=\"none\"/>\n",
              "    <path d=\"M18.56 5.44l.94 2.06.94-2.06 2.06-.94-2.06-.94-.94-2.06-.94 2.06-2.06.94zm-11 1L8.5 8.5l.94-2.06 2.06-.94-2.06-.94L8.5 2.5l-.94 2.06-2.06.94zm10 10l.94 2.06.94-2.06 2.06-.94-2.06-.94-.94-2.06-.94 2.06-2.06.94z\"/><path d=\"M17.41 7.96l-1.37-1.37c-.4-.4-.92-.59-1.43-.59-.52 0-1.04.2-1.43.59L10.3 9.45l-7.72 7.72c-.78.78-.78 2.05 0 2.83L4 21.41c.39.39.9.59 1.41.59.51 0 1.02-.2 1.41-.59l7.78-7.78 2.81-2.81c.8-.78.8-2.07 0-2.86zM5.41 20L4 18.59l7.72-7.72 1.47 1.35L5.41 20z\"/>\n",
              "  </svg>\n",
              "      </button>\n",
              "\n",
              "\n",
              "\n",
              "    <div id=\"df-53335016-308b-4f5f-9a01-3fdc63ff95e8\">\n",
              "      <button class=\"colab-df-quickchart\" onclick=\"quickchart('df-53335016-308b-4f5f-9a01-3fdc63ff95e8')\"\n",
              "              title=\"Suggest charts.\"\n",
              "              style=\"display:none;\">\n",
              "\n",
              "<svg xmlns=\"http://www.w3.org/2000/svg\" height=\"24px\"viewBox=\"0 0 24 24\"\n",
              "     width=\"24px\">\n",
              "    <g>\n",
              "        <path d=\"M19 3H5c-1.1 0-2 .9-2 2v14c0 1.1.9 2 2 2h14c1.1 0 2-.9 2-2V5c0-1.1-.9-2-2-2zM9 17H7v-7h2v7zm4 0h-2V7h2v10zm4 0h-2v-4h2v4z\"/>\n",
              "    </g>\n",
              "</svg>\n",
              "      </button>\n",
              "    </div>\n",
              "\n",
              "<style>\n",
              "  .colab-df-quickchart {\n",
              "    background-color: #E8F0FE;\n",
              "    border: none;\n",
              "    border-radius: 50%;\n",
              "    cursor: pointer;\n",
              "    display: none;\n",
              "    fill: #1967D2;\n",
              "    height: 32px;\n",
              "    padding: 0 0 0 0;\n",
              "    width: 32px;\n",
              "  }\n",
              "\n",
              "  .colab-df-quickchart:hover {\n",
              "    background-color: #E2EBFA;\n",
              "    box-shadow: 0px 1px 2px rgba(60, 64, 67, 0.3), 0px 1px 3px 1px rgba(60, 64, 67, 0.15);\n",
              "    fill: #174EA6;\n",
              "  }\n",
              "\n",
              "  [theme=dark] .colab-df-quickchart {\n",
              "    background-color: #3B4455;\n",
              "    fill: #D2E3FC;\n",
              "  }\n",
              "\n",
              "  [theme=dark] .colab-df-quickchart:hover {\n",
              "    background-color: #434B5C;\n",
              "    box-shadow: 0px 1px 3px 1px rgba(0, 0, 0, 0.15);\n",
              "    filter: drop-shadow(0px 1px 2px rgba(0, 0, 0, 0.3));\n",
              "    fill: #FFFFFF;\n",
              "  }\n",
              "</style>\n",
              "\n",
              "    <script>\n",
              "      async function quickchart(key) {\n",
              "        const containerElement = document.querySelector('#' + key);\n",
              "        const charts = await google.colab.kernel.invokeFunction(\n",
              "            'suggestCharts', [key], {});\n",
              "      }\n",
              "    </script>\n",
              "\n",
              "      <script>\n",
              "\n",
              "function displayQuickchartButton(domScope) {\n",
              "  let quickchartButtonEl =\n",
              "    domScope.querySelector('#df-53335016-308b-4f5f-9a01-3fdc63ff95e8 button.colab-df-quickchart');\n",
              "  quickchartButtonEl.style.display =\n",
              "    google.colab.kernel.accessAllowed ? 'block' : 'none';\n",
              "}\n",
              "\n",
              "        displayQuickchartButton(document);\n",
              "      </script>\n",
              "      <style>\n",
              "    .colab-df-container {\n",
              "      display:flex;\n",
              "      flex-wrap:wrap;\n",
              "      gap: 12px;\n",
              "    }\n",
              "\n",
              "    .colab-df-convert {\n",
              "      background-color: #E8F0FE;\n",
              "      border: none;\n",
              "      border-radius: 50%;\n",
              "      cursor: pointer;\n",
              "      display: none;\n",
              "      fill: #1967D2;\n",
              "      height: 32px;\n",
              "      padding: 0 0 0 0;\n",
              "      width: 32px;\n",
              "    }\n",
              "\n",
              "    .colab-df-convert:hover {\n",
              "      background-color: #E2EBFA;\n",
              "      box-shadow: 0px 1px 2px rgba(60, 64, 67, 0.3), 0px 1px 3px 1px rgba(60, 64, 67, 0.15);\n",
              "      fill: #174EA6;\n",
              "    }\n",
              "\n",
              "    [theme=dark] .colab-df-convert {\n",
              "      background-color: #3B4455;\n",
              "      fill: #D2E3FC;\n",
              "    }\n",
              "\n",
              "    [theme=dark] .colab-df-convert:hover {\n",
              "      background-color: #434B5C;\n",
              "      box-shadow: 0px 1px 3px 1px rgba(0, 0, 0, 0.15);\n",
              "      filter: drop-shadow(0px 1px 2px rgba(0, 0, 0, 0.3));\n",
              "      fill: #FFFFFF;\n",
              "    }\n",
              "  </style>\n",
              "\n",
              "      <script>\n",
              "        const buttonEl =\n",
              "          document.querySelector('#df-01156513-7578-4b18-8156-419616b4b87a button.colab-df-convert');\n",
              "        buttonEl.style.display =\n",
              "          google.colab.kernel.accessAllowed ? 'block' : 'none';\n",
              "\n",
              "        async function convertToInteractive(key) {\n",
              "          const element = document.querySelector('#df-01156513-7578-4b18-8156-419616b4b87a');\n",
              "          const dataTable =\n",
              "            await google.colab.kernel.invokeFunction('convertToInteractive',\n",
              "                                                     [key], {});\n",
              "          if (!dataTable) return;\n",
              "\n",
              "          const docLinkHtml = 'Like what you see? Visit the ' +\n",
              "            '<a target=\"_blank\" href=https://colab.research.google.com/notebooks/data_table.ipynb>data table notebook</a>'\n",
              "            + ' to learn more about interactive tables.';\n",
              "          element.innerHTML = '';\n",
              "          dataTable['output_type'] = 'display_data';\n",
              "          await google.colab.output.renderOutput(dataTable, element);\n",
              "          const docLink = document.createElement('div');\n",
              "          docLink.innerHTML = docLinkHtml;\n",
              "          element.appendChild(docLink);\n",
              "        }\n",
              "      </script>\n",
              "    </div>\n",
              "  </div>\n"
            ]
          },
          "metadata": {},
          "execution_count": 22
        }
      ],
      "source": [
        "movies.head()"
      ],
      "id": "ed379d14"
    },
    {
      "cell_type": "code",
      "execution_count": null,
      "metadata": {
        "id": "ca7ff2d0",
        "colab": {
          "base_uri": "https://localhost:8080/",
          "height": 36
        },
        "outputId": "011eea95-748f-4005-e4c9-3a52de79aa85"
      },
      "outputs": [
        {
          "output_type": "execute_result",
          "data": {
            "text/plain": [
              "'avatar future marine native paraplegic'"
            ],
            "application/vnd.google.colaboratory.intrinsic+json": {
              "type": "string"
            }
          },
          "metadata": {},
          "execution_count": 23
        }
      ],
      "source": [
        "movies.plot_keywords_cleaned[0]"
      ],
      "id": "ca7ff2d0"
    },
    {
      "cell_type": "code",
      "execution_count": null,
      "metadata": {
        "id": "741f3c54",
        "colab": {
          "base_uri": "https://localhost:8080/"
        },
        "outputId": "60e7e02f-8c97-4f87-ebd6-5ed58430462c"
      },
      "outputs": [
        {
          "output_type": "execute_result",
          "data": {
            "text/plain": [
              "Index(['director_name', 'actor_1_name', 'actor_2_name', 'actor_3_name',\n",
              "       'genres', 'movie_title', 'plot_keywords', 'director_name_cleaned',\n",
              "       'actor_1_name_cleaned', 'actor_2_name_cleaned', 'actor_3_name_cleaned',\n",
              "       'genres_cleaned', 'movie_title_cleaned', 'plot_keywords_cleaned'],\n",
              "      dtype='object')"
            ]
          },
          "metadata": {},
          "execution_count": 24
        }
      ],
      "source": [
        "movies.columns"
      ],
      "id": "741f3c54"
    },
    {
      "cell_type": "markdown",
      "metadata": {
        "id": "eb9d9f6d"
      },
      "source": [
        "put all the information in one dataframe column"
      ],
      "id": "eb9d9f6d"
    },
    {
      "cell_type": "code",
      "execution_count": null,
      "metadata": {
        "id": "2933ec9f"
      },
      "outputs": [],
      "source": [
        "if 'all_data' not in movies.columns:                #this lines prevent from re-runing the data which causes multiple datasets.\n",
        "    movies['all_data'] = movies[movies.columns[7:]].apply(\n",
        "        lambda x: ' '.join(x.astype(str)),\n",
        "        axis=1\n",
        "        )\n",
        " #makes a new colmns called all data. 7: selects all the column names starting from the 7th column (index 7) and returns them as a list.\n",
        "                      #The lambda function uses the join method to concatenate the values of the row (x) into a single string.\n",
        "                                                   # The astype(str) part is used to convert each value to a string before joining them.\n",
        "                                                         #apply method is used on selected axis where axis = 1 means on each row.\n",
        "                                                         #. This lambda function takes a row (represented as x) as input."
      ],
      "id": "2933ec9f"
    },
    {
      "cell_type": "code",
      "execution_count": null,
      "metadata": {
        "id": "7437212d",
        "colab": {
          "base_uri": "https://localhost:8080/",
          "height": 738
        },
        "outputId": "db5eac84-7472-4672-f292-274954c7d589"
      },
      "outputs": [
        {
          "output_type": "execute_result",
          "data": {
            "text/plain": [
              "       director_name     actor_1_name      actor_2_name          actor_3_name  \\\n",
              "0      James Cameron      CCH Pounder  Joel David Moore             Wes Studi   \n",
              "1     Gore Verbinski      Johnny Depp     Orlando Bloom        Jack Davenport   \n",
              "2         Sam Mendes  Christoph Waltz      Rory Kinnear      Stephanie Sigman   \n",
              "3  Christopher Nolan        Tom Hardy    Christian Bale  Joseph Gordon-Levitt   \n",
              "4        Doug Walker      Doug Walker        Rob Walker               unknown   \n",
              "\n",
              "                            genres  \\\n",
              "0  Action|Adventure|Fantasy|Sci-Fi   \n",
              "1         Action|Adventure|Fantasy   \n",
              "2        Action|Adventure|Thriller   \n",
              "3                  Action|Thriller   \n",
              "4                      Documentary   \n",
              "\n",
              "                                         movie_title  \\\n",
              "0                                            Avatar    \n",
              "1          Pirates of the Caribbean: At World's End    \n",
              "2                                           Spectre    \n",
              "3                             The Dark Knight Rises    \n",
              "4  Star Wars: Episode VII - The Force Awakens    ...   \n",
              "\n",
              "                                       plot_keywords director_name_cleaned  \\\n",
              "0             avatar|future|marine|native|paraplegic         james cameron   \n",
              "1  goddess|marriage ceremony|marriage proposal|pi...        gore verbinski   \n",
              "2                bomb|espionage|sequel|spy|terrorist            sam mendes   \n",
              "3  deception|imprisonment|lawlessness|police offi...     christopher nolan   \n",
              "4                                            unknown           doug walker   \n",
              "\n",
              "  actor_1_name_cleaned actor_2_name_cleaned  actor_3_name_cleaned  \\\n",
              "0          cch pounder     joel david moore             wes studi   \n",
              "1          johnny depp        orlando bloom        jack davenport   \n",
              "2      christoph waltz         rory kinnear      stephanie sigman   \n",
              "3            tom hardy       christian bale  joseph gordon levitt   \n",
              "4          doug walker           rob walker               unknown   \n",
              "\n",
              "                    genres_cleaned  \\\n",
              "0  action adventure fantasy sci fi   \n",
              "1         action adventure fantasy   \n",
              "2        action adventure thriller   \n",
              "3                  action thriller   \n",
              "4                      documentary   \n",
              "\n",
              "                           movie_title_cleaned  \\\n",
              "0                                      avatar    \n",
              "1    pirates of the caribbean  at world s end    \n",
              "2                                     spectre    \n",
              "3                       the dark knight rises    \n",
              "4  star wars  episode vii   the force awakens    \n",
              "\n",
              "                               plot_keywords_cleaned  \\\n",
              "0             avatar future marine native paraplegic   \n",
              "1  goddess marriage ceremony marriage proposal pi...   \n",
              "2                bomb espionage sequel spy terrorist   \n",
              "3  deception imprisonment lawlessness police offi...   \n",
              "4                                            unknown   \n",
              "\n",
              "                                            all_data  \n",
              "0  james cameron cch pounder joel david moore wes...  \n",
              "1  gore verbinski johnny depp orlando bloom jack ...  \n",
              "2  sam mendes christoph waltz rory kinnear stepha...  \n",
              "3  christopher nolan tom hardy christian bale jos...  \n",
              "4  doug walker doug walker rob walker unknown doc...  "
            ],
            "text/html": [
              "\n",
              "\n",
              "  <div id=\"df-a8c9bf7f-e969-429e-8105-41b511fde9ca\">\n",
              "    <div class=\"colab-df-container\">\n",
              "      <div>\n",
              "<style scoped>\n",
              "    .dataframe tbody tr th:only-of-type {\n",
              "        vertical-align: middle;\n",
              "    }\n",
              "\n",
              "    .dataframe tbody tr th {\n",
              "        vertical-align: top;\n",
              "    }\n",
              "\n",
              "    .dataframe thead th {\n",
              "        text-align: right;\n",
              "    }\n",
              "</style>\n",
              "<table border=\"1\" class=\"dataframe\">\n",
              "  <thead>\n",
              "    <tr style=\"text-align: right;\">\n",
              "      <th></th>\n",
              "      <th>director_name</th>\n",
              "      <th>actor_1_name</th>\n",
              "      <th>actor_2_name</th>\n",
              "      <th>actor_3_name</th>\n",
              "      <th>genres</th>\n",
              "      <th>movie_title</th>\n",
              "      <th>plot_keywords</th>\n",
              "      <th>director_name_cleaned</th>\n",
              "      <th>actor_1_name_cleaned</th>\n",
              "      <th>actor_2_name_cleaned</th>\n",
              "      <th>actor_3_name_cleaned</th>\n",
              "      <th>genres_cleaned</th>\n",
              "      <th>movie_title_cleaned</th>\n",
              "      <th>plot_keywords_cleaned</th>\n",
              "      <th>all_data</th>\n",
              "    </tr>\n",
              "  </thead>\n",
              "  <tbody>\n",
              "    <tr>\n",
              "      <th>0</th>\n",
              "      <td>James Cameron</td>\n",
              "      <td>CCH Pounder</td>\n",
              "      <td>Joel David Moore</td>\n",
              "      <td>Wes Studi</td>\n",
              "      <td>Action|Adventure|Fantasy|Sci-Fi</td>\n",
              "      <td>Avatar</td>\n",
              "      <td>avatar|future|marine|native|paraplegic</td>\n",
              "      <td>james cameron</td>\n",
              "      <td>cch pounder</td>\n",
              "      <td>joel david moore</td>\n",
              "      <td>wes studi</td>\n",
              "      <td>action adventure fantasy sci fi</td>\n",
              "      <td>avatar</td>\n",
              "      <td>avatar future marine native paraplegic</td>\n",
              "      <td>james cameron cch pounder joel david moore wes...</td>\n",
              "    </tr>\n",
              "    <tr>\n",
              "      <th>1</th>\n",
              "      <td>Gore Verbinski</td>\n",
              "      <td>Johnny Depp</td>\n",
              "      <td>Orlando Bloom</td>\n",
              "      <td>Jack Davenport</td>\n",
              "      <td>Action|Adventure|Fantasy</td>\n",
              "      <td>Pirates of the Caribbean: At World's End</td>\n",
              "      <td>goddess|marriage ceremony|marriage proposal|pi...</td>\n",
              "      <td>gore verbinski</td>\n",
              "      <td>johnny depp</td>\n",
              "      <td>orlando bloom</td>\n",
              "      <td>jack davenport</td>\n",
              "      <td>action adventure fantasy</td>\n",
              "      <td>pirates of the caribbean  at world s end</td>\n",
              "      <td>goddess marriage ceremony marriage proposal pi...</td>\n",
              "      <td>gore verbinski johnny depp orlando bloom jack ...</td>\n",
              "    </tr>\n",
              "    <tr>\n",
              "      <th>2</th>\n",
              "      <td>Sam Mendes</td>\n",
              "      <td>Christoph Waltz</td>\n",
              "      <td>Rory Kinnear</td>\n",
              "      <td>Stephanie Sigman</td>\n",
              "      <td>Action|Adventure|Thriller</td>\n",
              "      <td>Spectre</td>\n",
              "      <td>bomb|espionage|sequel|spy|terrorist</td>\n",
              "      <td>sam mendes</td>\n",
              "      <td>christoph waltz</td>\n",
              "      <td>rory kinnear</td>\n",
              "      <td>stephanie sigman</td>\n",
              "      <td>action adventure thriller</td>\n",
              "      <td>spectre</td>\n",
              "      <td>bomb espionage sequel spy terrorist</td>\n",
              "      <td>sam mendes christoph waltz rory kinnear stepha...</td>\n",
              "    </tr>\n",
              "    <tr>\n",
              "      <th>3</th>\n",
              "      <td>Christopher Nolan</td>\n",
              "      <td>Tom Hardy</td>\n",
              "      <td>Christian Bale</td>\n",
              "      <td>Joseph Gordon-Levitt</td>\n",
              "      <td>Action|Thriller</td>\n",
              "      <td>The Dark Knight Rises</td>\n",
              "      <td>deception|imprisonment|lawlessness|police offi...</td>\n",
              "      <td>christopher nolan</td>\n",
              "      <td>tom hardy</td>\n",
              "      <td>christian bale</td>\n",
              "      <td>joseph gordon levitt</td>\n",
              "      <td>action thriller</td>\n",
              "      <td>the dark knight rises</td>\n",
              "      <td>deception imprisonment lawlessness police offi...</td>\n",
              "      <td>christopher nolan tom hardy christian bale jos...</td>\n",
              "    </tr>\n",
              "    <tr>\n",
              "      <th>4</th>\n",
              "      <td>Doug Walker</td>\n",
              "      <td>Doug Walker</td>\n",
              "      <td>Rob Walker</td>\n",
              "      <td>unknown</td>\n",
              "      <td>Documentary</td>\n",
              "      <td>Star Wars: Episode VII - The Force Awakens    ...</td>\n",
              "      <td>unknown</td>\n",
              "      <td>doug walker</td>\n",
              "      <td>doug walker</td>\n",
              "      <td>rob walker</td>\n",
              "      <td>unknown</td>\n",
              "      <td>documentary</td>\n",
              "      <td>star wars  episode vii   the force awakens</td>\n",
              "      <td>unknown</td>\n",
              "      <td>doug walker doug walker rob walker unknown doc...</td>\n",
              "    </tr>\n",
              "  </tbody>\n",
              "</table>\n",
              "</div>\n",
              "      <button class=\"colab-df-convert\" onclick=\"convertToInteractive('df-a8c9bf7f-e969-429e-8105-41b511fde9ca')\"\n",
              "              title=\"Convert this dataframe to an interactive table.\"\n",
              "              style=\"display:none;\">\n",
              "\n",
              "  <svg xmlns=\"http://www.w3.org/2000/svg\" height=\"24px\"viewBox=\"0 0 24 24\"\n",
              "       width=\"24px\">\n",
              "    <path d=\"M0 0h24v24H0V0z\" fill=\"none\"/>\n",
              "    <path d=\"M18.56 5.44l.94 2.06.94-2.06 2.06-.94-2.06-.94-.94-2.06-.94 2.06-2.06.94zm-11 1L8.5 8.5l.94-2.06 2.06-.94-2.06-.94L8.5 2.5l-.94 2.06-2.06.94zm10 10l.94 2.06.94-2.06 2.06-.94-2.06-.94-.94-2.06-.94 2.06-2.06.94z\"/><path d=\"M17.41 7.96l-1.37-1.37c-.4-.4-.92-.59-1.43-.59-.52 0-1.04.2-1.43.59L10.3 9.45l-7.72 7.72c-.78.78-.78 2.05 0 2.83L4 21.41c.39.39.9.59 1.41.59.51 0 1.02-.2 1.41-.59l7.78-7.78 2.81-2.81c.8-.78.8-2.07 0-2.86zM5.41 20L4 18.59l7.72-7.72 1.47 1.35L5.41 20z\"/>\n",
              "  </svg>\n",
              "      </button>\n",
              "\n",
              "\n",
              "\n",
              "    <div id=\"df-4ec2a146-d800-41c5-aa21-a05a2af98eae\">\n",
              "      <button class=\"colab-df-quickchart\" onclick=\"quickchart('df-4ec2a146-d800-41c5-aa21-a05a2af98eae')\"\n",
              "              title=\"Suggest charts.\"\n",
              "              style=\"display:none;\">\n",
              "\n",
              "<svg xmlns=\"http://www.w3.org/2000/svg\" height=\"24px\"viewBox=\"0 0 24 24\"\n",
              "     width=\"24px\">\n",
              "    <g>\n",
              "        <path d=\"M19 3H5c-1.1 0-2 .9-2 2v14c0 1.1.9 2 2 2h14c1.1 0 2-.9 2-2V5c0-1.1-.9-2-2-2zM9 17H7v-7h2v7zm4 0h-2V7h2v10zm4 0h-2v-4h2v4z\"/>\n",
              "    </g>\n",
              "</svg>\n",
              "      </button>\n",
              "    </div>\n",
              "\n",
              "<style>\n",
              "  .colab-df-quickchart {\n",
              "    background-color: #E8F0FE;\n",
              "    border: none;\n",
              "    border-radius: 50%;\n",
              "    cursor: pointer;\n",
              "    display: none;\n",
              "    fill: #1967D2;\n",
              "    height: 32px;\n",
              "    padding: 0 0 0 0;\n",
              "    width: 32px;\n",
              "  }\n",
              "\n",
              "  .colab-df-quickchart:hover {\n",
              "    background-color: #E2EBFA;\n",
              "    box-shadow: 0px 1px 2px rgba(60, 64, 67, 0.3), 0px 1px 3px 1px rgba(60, 64, 67, 0.15);\n",
              "    fill: #174EA6;\n",
              "  }\n",
              "\n",
              "  [theme=dark] .colab-df-quickchart {\n",
              "    background-color: #3B4455;\n",
              "    fill: #D2E3FC;\n",
              "  }\n",
              "\n",
              "  [theme=dark] .colab-df-quickchart:hover {\n",
              "    background-color: #434B5C;\n",
              "    box-shadow: 0px 1px 3px 1px rgba(0, 0, 0, 0.15);\n",
              "    filter: drop-shadow(0px 1px 2px rgba(0, 0, 0, 0.3));\n",
              "    fill: #FFFFFF;\n",
              "  }\n",
              "</style>\n",
              "\n",
              "    <script>\n",
              "      async function quickchart(key) {\n",
              "        const containerElement = document.querySelector('#' + key);\n",
              "        const charts = await google.colab.kernel.invokeFunction(\n",
              "            'suggestCharts', [key], {});\n",
              "      }\n",
              "    </script>\n",
              "\n",
              "      <script>\n",
              "\n",
              "function displayQuickchartButton(domScope) {\n",
              "  let quickchartButtonEl =\n",
              "    domScope.querySelector('#df-4ec2a146-d800-41c5-aa21-a05a2af98eae button.colab-df-quickchart');\n",
              "  quickchartButtonEl.style.display =\n",
              "    google.colab.kernel.accessAllowed ? 'block' : 'none';\n",
              "}\n",
              "\n",
              "        displayQuickchartButton(document);\n",
              "      </script>\n",
              "      <style>\n",
              "    .colab-df-container {\n",
              "      display:flex;\n",
              "      flex-wrap:wrap;\n",
              "      gap: 12px;\n",
              "    }\n",
              "\n",
              "    .colab-df-convert {\n",
              "      background-color: #E8F0FE;\n",
              "      border: none;\n",
              "      border-radius: 50%;\n",
              "      cursor: pointer;\n",
              "      display: none;\n",
              "      fill: #1967D2;\n",
              "      height: 32px;\n",
              "      padding: 0 0 0 0;\n",
              "      width: 32px;\n",
              "    }\n",
              "\n",
              "    .colab-df-convert:hover {\n",
              "      background-color: #E2EBFA;\n",
              "      box-shadow: 0px 1px 2px rgba(60, 64, 67, 0.3), 0px 1px 3px 1px rgba(60, 64, 67, 0.15);\n",
              "      fill: #174EA6;\n",
              "    }\n",
              "\n",
              "    [theme=dark] .colab-df-convert {\n",
              "      background-color: #3B4455;\n",
              "      fill: #D2E3FC;\n",
              "    }\n",
              "\n",
              "    [theme=dark] .colab-df-convert:hover {\n",
              "      background-color: #434B5C;\n",
              "      box-shadow: 0px 1px 3px 1px rgba(0, 0, 0, 0.15);\n",
              "      filter: drop-shadow(0px 1px 2px rgba(0, 0, 0, 0.3));\n",
              "      fill: #FFFFFF;\n",
              "    }\n",
              "  </style>\n",
              "\n",
              "      <script>\n",
              "        const buttonEl =\n",
              "          document.querySelector('#df-a8c9bf7f-e969-429e-8105-41b511fde9ca button.colab-df-convert');\n",
              "        buttonEl.style.display =\n",
              "          google.colab.kernel.accessAllowed ? 'block' : 'none';\n",
              "\n",
              "        async function convertToInteractive(key) {\n",
              "          const element = document.querySelector('#df-a8c9bf7f-e969-429e-8105-41b511fde9ca');\n",
              "          const dataTable =\n",
              "            await google.colab.kernel.invokeFunction('convertToInteractive',\n",
              "                                                     [key], {});\n",
              "          if (!dataTable) return;\n",
              "\n",
              "          const docLinkHtml = 'Like what you see? Visit the ' +\n",
              "            '<a target=\"_blank\" href=https://colab.research.google.com/notebooks/data_table.ipynb>data table notebook</a>'\n",
              "            + ' to learn more about interactive tables.';\n",
              "          element.innerHTML = '';\n",
              "          dataTable['output_type'] = 'display_data';\n",
              "          await google.colab.output.renderOutput(dataTable, element);\n",
              "          const docLink = document.createElement('div');\n",
              "          docLink.innerHTML = docLinkHtml;\n",
              "          element.appendChild(docLink);\n",
              "        }\n",
              "      </script>\n",
              "    </div>\n",
              "  </div>\n"
            ]
          },
          "metadata": {},
          "execution_count": 26
        }
      ],
      "source": [
        "movies.head()"
      ],
      "id": "7437212d"
    },
    {
      "cell_type": "code",
      "execution_count": null,
      "metadata": {
        "id": "cb32822c",
        "colab": {
          "base_uri": "https://localhost:8080/",
          "height": 36
        },
        "outputId": "5442d5c4-e7be-4755-bdce-30110d3d5b22"
      },
      "outputs": [
        {
          "output_type": "execute_result",
          "data": {
            "text/plain": [
              "'alfonso cuar n daniel radcliffe gary oldman rupert grint adventure family fantasy mystery harry potter and the prisoner of azkaban  magic muggle serial killer traitor wizard'"
            ],
            "application/vnd.google.colaboratory.intrinsic+json": {
              "type": "string"
            }
          },
          "metadata": {},
          "execution_count": 27
        }
      ],
      "source": [
        "movies.all_data[177]"
      ],
      "id": "cb32822c"
    },
    {
      "cell_type": "code",
      "execution_count": null,
      "metadata": {
        "id": "47d00672"
      },
      "outputs": [],
      "source": [
        "# Import the wordcloud library\n",
        "from wordcloud import WordCloud\n",
        "\n",
        "def world_cloud_generate(long_string):\n",
        "\n",
        "    # create a worldcloud object\n",
        "    wordcloud = WordCloud(background_color=\"white\", max_words=50000,\n",
        "                     contour_width=3, contour_color='steelblue', width=500,height=300,\n",
        "                     repeat=False,include_numbers=False)\n",
        "    # Generate a world cloud\n",
        "    wordcloud.generate(long_string)\n",
        "\n",
        "    return wordcloud"
      ],
      "id": "47d00672"
    },
    {
      "cell_type": "code",
      "execution_count": null,
      "metadata": {
        "id": "f37cd147",
        "colab": {
          "base_uri": "https://localhost:8080/",
          "height": 317
        },
        "outputId": "e8304f03-a47e-4e7a-dc35-f2b8c623b74f"
      },
      "outputs": [
        {
          "output_type": "execute_result",
          "data": {
            "text/plain": [
              "<PIL.Image.Image image mode=RGB size=500x300 at 0x7F2716905480>"
            ],
            "image/png": "[encoded data removed]"
          },
          "metadata": {},
          "execution_count": 29
        }
      ],
      "source": [
        "# Visualize the title of all the recipes in the dataset\n",
        "# Join the different processed title together\n",
        "long_string_title = ','.join(list(movies.all_data.values))\n",
        "wordcloud1 = world_cloud_generate(long_string_title)\n",
        "\n",
        "# Visualize the worldcloud\n",
        "wordcloud1.to_image()"
      ],
      "id": "f37cd147"
    },
    {
      "cell_type": "markdown",
      "metadata": {
        "id": "bb558354"
      },
      "source": [
        "## Prepare Text Data for the Machine Learning Model\n",
        "\n",
        "To feed the text data to a machine learning model, we need to convert text data to numerical data. There are a few ways to do this in natural language processing fields, such as\n",
        "- the bag-of-words model\n",
        "- word counts based Tokenization method\n",
        "- TF-IDF using TfidfVectorizer\n",
        "- Hashing WORDS\n",
        "\n",
        "In this demo file, the Tokenization method will be illustrated using the CountVectorizer procided by scikitlearn.\n",
        "\n",
        "\n",
        "References:\n",
        "1. Scikit-learn Working with Text Data https://scikit-learn.org/stable/tutorial/text_analytics/working_with_text_data.html\n",
        "2. Encode text data https://machinelearningmastery.com/prepare-text-data-machine-learning-scikit-learn/"
      ],
      "id": "bb558354"
    },
    {
      "cell_type": "code",
      "execution_count": null,
      "metadata": {
        "id": "1906c9f1",
        "colab": {
          "base_uri": "https://localhost:8080/"
        },
        "outputId": "7528aec1-0b52-4f79-f369-1504185c1873"
      },
      "outputs": [
        {
          "output_type": "stream",
          "name": "stderr",
          "text": [
            "[nltk_data] Downloading package wordnet to /root/nltk_data...\n"
          ]
        }
      ],
      "source": [
        "import nltk\n",
        "from nltk import WordNetLemmatizer\n",
        "from nltk.corpus import stopwords\n",
        "import re\n",
        "nltk.download('wordnet')\n",
        "\n",
        "def lemma_tokens(tokens, lemma):\n",
        "    lemma_result = [lemma.lemmatize(item) for item in tokens]\n",
        "    return(lemma_result)\n",
        "\n",
        "def tokenize(text):\n",
        "    lemma = nltk.WordNetLemmatizer()\n",
        "    text = re.sub(\"[^a-zA-Z]\", \" \", text)\n",
        "    tokens = nltk.word_tokenize(text)\n",
        "\n",
        "    # English Stop words\n",
        "    # Re-add the additional stop words since we are recreating the document-term matrix\n",
        "    stop_words = stopwords.words('english')\n",
        "\n",
        "    # Remove all stop words: no_stops\n",
        "    no_stops = [t for t in tokens if t not in stop_words]\n",
        "\n",
        "    lemma = lemma_tokens(no_stops, lemma)\n",
        "    filtered_result = [word for word in lemma if len(word) >= 3]\n",
        "    return(filtered_result)"
      ],
      "id": "1906c9f1"
    },
    {
      "cell_type": "code",
      "execution_count": null,
      "metadata": {
        "id": "e4d7d55b",
        "colab": {
          "base_uri": "https://localhost:8080/"
        },
        "outputId": "49dca828-f5e7-4427-ca0e-4bbf9be7310f"
      },
      "outputs": [
        {
          "output_type": "stream",
          "name": "stderr",
          "text": [
            "[nltk_data] Downloading package stopwords to /root/nltk_data...\n",
            "[nltk_data]   Unzipping corpora/stopwords.zip.\n",
            "[nltk_data] Downloading package punkt to /root/nltk_data...\n",
            "[nltk_data]   Unzipping tokenizers/punkt.zip.\n",
            "[nltk_data] Downloading package wordnet to /root/nltk_data...\n",
            "[nltk_data]   Package wordnet is already up-to-date!\n",
            "/usr/local/lib/python3.10/dist-packages/sklearn/feature_extraction/text.py:528: UserWarning: The parameter 'token_pattern' will not be used since 'tokenizer' is not None'\n",
            "  warnings.warn(\n"
          ]
        }
      ],
      "source": [
        "from sklearn.feature_extraction.text import CountVectorizer\n",
        "import nltk\n",
        "nltk.download('stopwords')\n",
        "\n",
        "from nltk.corpus import stopwords\n",
        "\n",
        "# Re-add the additional stop words since we are recreating the document-term matrix\n",
        "stop_words = stopwords.words('english')\n",
        "\n",
        "# stop_words = text.ENGLISH_STOP_WORDS.union(add_stop_words)\n",
        "\n",
        "vect1 = CountVectorizer(stop_words= stop_words,\n",
        "                       analyzer='word',\n",
        "                       max_features = 5000,\n",
        "                       tokenizer = tokenize,\n",
        "                       lowercase = True)\n",
        "\n",
        "# Fit and transform\n",
        "nltk.download('punkt')              #this needs to be added or else the code wont run.\n",
        "nltk.download('wordnet')\n",
        "X = vect1.fit_transform(movies.all_data)"
      ],
      "id": "e4d7d55b"
    },
    {
      "cell_type": "code",
      "source": [
        "from sklearn.feature_extraction.text import TfidfVectorizer\n",
        "\n",
        "vect2 = TfidfVectorizer(stop_words= stop_words,\n",
        "                       analyzer='word',\n",
        "                       max_features = 5000,\n",
        "                       tokenizer = tokenize,\n",
        "                       lowercase = True)\n",
        "\n",
        "Y = vect2.fit_transform(movies.all_data)"
      ],
      "metadata": {
        "id": "0u6sOe3_vnLc"
      },
      "id": "0u6sOe3_vnLc",
      "execution_count": null,
      "outputs": []
    },
    {
      "cell_type": "code",
      "source": [
        "from sklearn.feature_extraction.text import HashingVectorizer\n",
        "\n",
        "vect3 = HashingVectorizer(stop_words= stop_words,\n",
        "                       analyzer='word',\n",
        "                       n_features=5000,       #uses n_features except of max_features.\n",
        "                       tokenizer = tokenize,\n",
        "                       lowercase = True,\n",
        ")\n",
        "\n",
        "Z = vect3.fit_transform(movies.all_data)"
      ],
      "metadata": {
        "id": "5D90Tc8Nwm3i"
      },
      "id": "5D90Tc8Nwm3i",
      "execution_count": null,
      "outputs": []
    },
    {
      "cell_type": "code",
      "execution_count": null,
      "metadata": {
        "id": "710ed028",
        "colab": {
          "base_uri": "https://localhost:8080/"
        },
        "outputId": "4a239453-1ef3-487a-a069-c22a5bc84f90"
      },
      "outputs": [
        {
          "output_type": "execute_result",
          "data": {
            "text/plain": [
              "(4917, 5000)"
            ]
          },
          "metadata": {},
          "execution_count": 34
        }
      ],
      "source": [
        "# check the shape of matrix X\n",
        "X.shape"
      ],
      "id": "710ed028"
    },
    {
      "cell_type": "code",
      "source": [
        "Y.shape"
      ],
      "metadata": {
        "colab": {
          "base_uri": "https://localhost:8080/"
        },
        "id": "5kesVblpwVhs",
        "outputId": "80f67658-09d6-474c-cc19-c74b38fcead0"
      },
      "id": "5kesVblpwVhs",
      "execution_count": null,
      "outputs": [
        {
          "output_type": "execute_result",
          "data": {
            "text/plain": [
              "(4917, 5000)"
            ]
          },
          "metadata": {},
          "execution_count": 35
        }
      ]
    },
    {
      "cell_type": "code",
      "source": [
        "Z.shape"
      ],
      "metadata": {
        "colab": {
          "base_uri": "https://localhost:8080/"
        },
        "id": "CJDz9cxfwqxd",
        "outputId": "7eed52d1-f732-4e7f-a12c-745d8d924a90"
      },
      "id": "CJDz9cxfwqxd",
      "execution_count": null,
      "outputs": [
        {
          "output_type": "execute_result",
          "data": {
            "text/plain": [
              "(4917, 5000)"
            ]
          },
          "metadata": {},
          "execution_count": 36
        }
      ]
    },
    {
      "cell_type": "code",
      "source": [
        "X.toarray()"
      ],
      "metadata": {
        "colab": {
          "base_uri": "https://localhost:8080/"
        },
        "id": "Lgi2tuzEamKn",
        "outputId": "bda8d04c-10b4-4486-c80b-525107e24afc"
      },
      "id": "Lgi2tuzEamKn",
      "execution_count": null,
      "outputs": [
        {
          "output_type": "execute_result",
          "data": {
            "text/plain": [
              "array([[0, 0, 0, ..., 0, 0, 0],\n",
              "       [0, 0, 0, ..., 0, 0, 0],\n",
              "       [0, 0, 0, ..., 0, 0, 0],\n",
              "       ...,\n",
              "       [0, 0, 0, ..., 0, 0, 0],\n",
              "       [0, 0, 0, ..., 0, 0, 0],\n",
              "       [0, 0, 0, ..., 0, 0, 0]])"
            ]
          },
          "metadata": {},
          "execution_count": 37
        }
      ]
    },
    {
      "cell_type": "code",
      "source": [
        "Y.toarray()"
      ],
      "metadata": {
        "colab": {
          "base_uri": "https://localhost:8080/"
        },
        "id": "rG4u33i5wZg1",
        "outputId": "915186c5-4fcd-435f-c680-6bdbd3d00b7a"
      },
      "id": "rG4u33i5wZg1",
      "execution_count": null,
      "outputs": [
        {
          "output_type": "execute_result",
          "data": {
            "text/plain": [
              "array([[0., 0., 0., ..., 0., 0., 0.],\n",
              "       [0., 0., 0., ..., 0., 0., 0.],\n",
              "       [0., 0., 0., ..., 0., 0., 0.],\n",
              "       ...,\n",
              "       [0., 0., 0., ..., 0., 0., 0.],\n",
              "       [0., 0., 0., ..., 0., 0., 0.],\n",
              "       [0., 0., 0., ..., 0., 0., 0.]])"
            ]
          },
          "metadata": {},
          "execution_count": 38
        }
      ]
    },
    {
      "cell_type": "code",
      "source": [
        "Z.toarray()"
      ],
      "metadata": {
        "colab": {
          "base_uri": "https://localhost:8080/"
        },
        "id": "lbFPUuZdw3jA",
        "outputId": "641ad05d-a111-4be0-bf8e-0dc6d095604f"
      },
      "id": "lbFPUuZdw3jA",
      "execution_count": null,
      "outputs": [
        {
          "output_type": "execute_result",
          "data": {
            "text/plain": [
              "array([[0., 0., 0., ..., 0., 0., 0.],\n",
              "       [0., 0., 0., ..., 0., 0., 0.],\n",
              "       [0., 0., 0., ..., 0., 0., 0.],\n",
              "       ...,\n",
              "       [0., 0., 0., ..., 0., 0., 0.],\n",
              "       [0., 0., 0., ..., 0., 0., 0.],\n",
              "       [0., 0., 0., ..., 0., 0., 0.]])"
            ]
          },
          "metadata": {},
          "execution_count": 39
        }
      ]
    },
    {
      "cell_type": "code",
      "source": [
        "#X is tokenization or the token model\n",
        "#Y is tf-idf model\n",
        "#Z is hasing model"
      ],
      "metadata": {
        "id": "q1a3SXcMOBeO"
      },
      "id": "q1a3SXcMOBeO",
      "execution_count": null,
      "outputs": []
    },
    {
      "cell_type": "markdown",
      "metadata": {
        "id": "94dcc941"
      },
      "source": [
        "## Cosine Similarity using Tokenization\n",
        "\n",
        "\n",
        "-- Try to fill and explore the following steps"
      ],
      "id": "94dcc941"
    },
    {
      "cell_type": "code",
      "execution_count": null,
      "metadata": {
        "id": "b5924291"
      },
      "outputs": [],
      "source": [
        "# measure the similarity between the query movie and all the movies in the dataset\n",
        "# you may try using cosine similarity first\n",
        "from sklearn.metrics.pairwise import cosine_similarity\n",
        "similarity = cosine_similarity(X)\n",
        "from sklearn.cluster import KMeans\n",
        "from sklearn.metrics import jaccard_score"
      ],
      "id": "b5924291"
    },
    {
      "cell_type": "code",
      "source": [
        "import re                                                                           #THIS REMOVES ANY SUMBOLS\n",
        "\n",
        "def extract_text(input_string):\n",
        "    text_only = re.sub(r'[^a-zA-Z0-9\\s]', '', input_string)\n",
        "    return text_only.strip()"
      ],
      "metadata": {
        "id": "Zf-ax-z2sBPa"
      },
      "id": "Zf-ax-z2sBPa",
      "execution_count": null,
      "outputs": []
    },
    {
      "cell_type": "code",
      "source": [
        "def cosine_similarity_tokenization(query, K):\n",
        "    cleaned_query = query[0].strip().lower()\n",
        "    cleaned_query = extract_text(cleaned_query)\n",
        "    unique_movie_titles = pd.Series(movies['all_data']).str.strip().unique()\n",
        "    unique_movie_titless = pd.Series(movies['movie_title_cleaned']).str.strip().unique()\n",
        "    if len(cleaned_query) < 3:\n",
        "        return 'Error! The query must contain at least 3 characters.'\n",
        "    matching_titles = unique_movie_titles[pd.Series(unique_movie_titles).str.contains(cleaned_query)]\n",
        "    if len(matching_titles) == 0:\n",
        "        return 'Sorry! The movie you requested is not in our database. Please check the spelling or try with some other movies'\n",
        "    else:\n",
        "        matching_indices = [list(unique_movie_titles).index(title) for title in matching_titles]\n",
        "        query_vectors = X[matching_indices]\n",
        "\n",
        "        similarity_scores = cosine_similarity(query_vectors, X)\n",
        "        top_indices = similarity_scores.argsort()[0][::-1][1:K+1]   #//gives index of similiar ones, 0 is the first row that stores index\n",
        "        recommended_movies = unique_movie_titless[top_indices]\n",
        "        return list(recommended_movies)"
      ],
      "metadata": {
        "id": "f92HiAWnaNi8"
      },
      "id": "f92HiAWnaNi8",
      "execution_count": null,
      "outputs": []
    },
    {
      "cell_type": "code",
      "source": [
        "def cosine_similarity_tfidf(query, K):\n",
        "    cleaned_query = query[0].strip().lower()\n",
        "    cleaned_query = extract_text(cleaned_query)\n",
        "    unique_movie_titles = pd.Series(movies['all_data']).str.strip().unique()\n",
        "    unique_movie_titless = pd.Series(movies['movie_title_cleaned']).str.strip().unique()\n",
        "    if len(cleaned_query) < 3:\n",
        "        return 'Error! The query must contain at least 3 characters.'\n",
        "    matching_titles = unique_movie_titles[pd.Series(unique_movie_titles).str.contains(cleaned_query)]\n",
        "    if len(matching_titles) == 0:\n",
        "        return 'Sorry! The movie you requested is not in our database. Please check the spelling or try with some other movies'\n",
        "    else:\n",
        "        matching_indices = [list(unique_movie_titles).index(title) for title in matching_titles]\n",
        "        query_vectors = Y[matching_indices]\n",
        "        similarity_scores = cosine_similarity(query_vectors, X)\n",
        "        top_indices = similarity_scores.argsort()[0][::-1][1:K+1]   #//gives index of similiar ones, 0 is the first row that stores index\n",
        "        recommended_movies = unique_movie_titless[top_indices]\n",
        "        return list(recommended_movies)"
      ],
      "metadata": {
        "id": "RMrYeZ4vxerF"
      },
      "id": "RMrYeZ4vxerF",
      "execution_count": null,
      "outputs": []
    },
    {
      "cell_type": "code",
      "source": [
        "def cosine_similarity_hashing(query, K):\n",
        "    cleaned_query = query[0].strip().lower()\n",
        "    cleaned_query = extract_text(cleaned_query)\n",
        "    unique_movie_titles = pd.Series(movies['all_data']).str.strip().unique()\n",
        "    unique_movie_titless = pd.Series(movies['movie_title_cleaned']).str.strip().unique()\n",
        "    if len(cleaned_query) < 3:\n",
        "        return 'Error! The query must contain at least 3 characters.'\n",
        "    matching_titles = unique_movie_titles[pd.Series(unique_movie_titles).str.contains(cleaned_query)]\n",
        "    if len(matching_titles) == 0:\n",
        "        return 'Sorry! The movie you requested is not in our database. Please check the spelling or try with some other movies'\n",
        "    else:\n",
        "        matching_indices = [list(unique_movie_titles).index(title) for title in matching_titles]\n",
        "        query_vectors = Z[matching_indices]\n",
        "        similarity_scores = cosine_similarity(query_vectors, Z)\n",
        "        top_indices = similarity_scores.argsort()[0][::-1][1:K+1]   #//gives index of similiar ones, 0 is the first row that stores index\n",
        "        recommended_movies = unique_movie_titless[top_indices]\n",
        "        return list(recommended_movies)"
      ],
      "metadata": {
        "id": "_Yj3w2lVMm2H"
      },
      "id": "_Yj3w2lVMm2H",
      "execution_count": null,
      "outputs": []
    },
    {
      "cell_type": "code",
      "source": [
        "from sklearn.metrics.pairwise import pairwise_distances\n",
        "\n",
        "def jaccard_similarity_tokenization(query, K):\n",
        "    cleaned_query = query[0].strip().lower()\n",
        "    cleaned_query = extract_text(cleaned_query)\n",
        "    unique_movie_titles = pd.Series(movies['all_data']).str.strip().unique()\n",
        "    unique_movie_titless = pd.Series(movies['movie_title_cleaned']).str.strip().unique()\n",
        "    if len(cleaned_query) < 3:\n",
        "        return 'Error! The query must contain at least 3 characters.'\n",
        "    matching_titles = unique_movie_titles[pd.Series(unique_movie_titles).str.contains(cleaned_query)].tolist()\n",
        "    if len(matching_titles) == 0:\n",
        "        return 'Sorry! The movie you requested is not in our database. Please check the spelling or try with some other movies'\n",
        "    else:\n",
        "        matching_indices = [list(unique_movie_titles).index(title) for title in matching_titles]\n",
        "        query_vectors = X[matching_indices].toarray()  # Convert query vectors to dense array\n",
        "\n",
        "        similarity_scores = pairwise_distances(query_vectors, X.toarray(), metric='jaccard')\n",
        "        similarity_scores = 1 - similarity_scores  # Convert to similarity scores\n",
        "\n",
        "        top_indices = similarity_scores.argsort()[:, ::-1][:, 1:K+1]\n",
        "        recommended_movies = unique_movie_titless[top_indices]\n",
        "        return recommended_movies.tolist()[0]\n"
      ],
      "metadata": {
        "id": "M4PCS0Sj0hcL"
      },
      "id": "M4PCS0Sj0hcL",
      "execution_count": null,
      "outputs": []
    },
    {
      "cell_type": "code",
      "source": [
        "def jaccard_similarity_tfidf(query, K):\n",
        "    cleaned_query = query[0].strip().lower()\n",
        "    cleaned_query = extract_text(cleaned_query)\n",
        "    unique_movie_titles = pd.Series(movies['all_data']).str.strip().unique()\n",
        "    unique_movie_titless = pd.Series(movies['movie_title_cleaned']).str.strip().unique()\n",
        "    if len(cleaned_query) < 3:\n",
        "        return 'Error! The query must contain at least 3 characters.'\n",
        "    matching_titles = unique_movie_titles[pd.Series(unique_movie_titles).str.contains(cleaned_query)].tolist()\n",
        "    if len(matching_titles) == 0:\n",
        "        return 'Sorry! The movie you requested is not in our database. Please check the spelling or try with some other movies'\n",
        "    else:\n",
        "        matching_indices = [list(unique_movie_titles).index(title) for title in matching_titles]\n",
        "        query_vectors = Y[matching_indices].toarray()\n",
        "\n",
        "        similarity_scores = pairwise_distances(query_vectors, Y.toarray(), metric='jaccard')\n",
        "        similarity_scores = 1 - similarity_scores   #Jaccard Distance to Jaccard Similarity\n",
        "\n",
        "        top_indices = similarity_scores.argsort()[:, ::-1][:, 1:K+1]\n",
        "        recommended_movies = unique_movie_titless[top_indices]\n",
        "        return recommended_movies.tolist()[0]"
      ],
      "metadata": {
        "id": "HWfuBjzP8_Lz"
      },
      "id": "HWfuBjzP8_Lz",
      "execution_count": null,
      "outputs": []
    },
    {
      "cell_type": "code",
      "source": [
        "def jaccard_similarity_hasihing(query, K):\n",
        "    cleaned_query = query[0].strip().lower()\n",
        "    cleaned_query = extract_text(cleaned_query)\n",
        "    unique_movie_titles = pd.Series(movies['all_data']).str.strip().unique()\n",
        "    unique_movie_titless = pd.Series(movies['movie_title_cleaned']).str.strip().unique()\n",
        "    if len(cleaned_query) < 3:\n",
        "        return 'Error! The query must contain at least 3 characters.'\n",
        "    matching_titles = unique_movie_titles[pd.Series(unique_movie_titles).str.contains(cleaned_query)].tolist()\n",
        "    if len(matching_titles) == 0:\n",
        "        return 'Sorry! The movie you requested is not in our database. Please check the spelling or try with some other movies'\n",
        "    else:\n",
        "        matching_indices = [list(unique_movie_titles).index(title) for title in matching_titles]\n",
        "        query_vectors = Z[matching_indices].toarray()\n",
        "\n",
        "        similarity_scores = pairwise_distances(query_vectors, Z.toarray(), metric='jaccard')\n",
        "        similarity_scores = 1 - similarity_scores   #Jaccard Distance to Jaccard Similarity\n",
        "\n",
        "        top_indices = similarity_scores.argsort()[:, ::-1][:, 1:K+1]\n",
        "        recommended_movies = unique_movie_titless[top_indices]\n",
        "        return recommended_movies.tolist()[0]"
      ],
      "metadata": {
        "id": "o6Hq7_cMNDbr"
      },
      "id": "o6Hq7_cMNDbr",
      "execution_count": null,
      "outputs": []
    },
    {
      "cell_type": "markdown",
      "source": [
        "**Use Different Movies in the line 72 and run all the models below:**"
      ],
      "metadata": {
        "id": "RJG-GXtXOMg0"
      },
      "id": "RJG-GXtXOMg0"
    },
    {
      "cell_type": "code",
      "source": [
        "K = 10"
      ],
      "metadata": {
        "id": "tLBb-sLuxmRR"
      },
      "id": "tLBb-sLuxmRR",
      "execution_count": null,
      "outputs": []
    },
    {
      "cell_type": "code",
      "source": [
        "inputt = input(\"Enter your query: \")\n",
        "query =[inputt]"
      ],
      "metadata": {
        "id": "K0I0JMyyxogE",
        "colab": {
          "base_uri": "https://localhost:8080/"
        },
        "outputId": "4ecfd31e-41d9-48a7-bf69-eb44a8c3bb11"
      },
      "id": "K0I0JMyyxogE",
      "execution_count": null,
      "outputs": [
        {
          "name": "stdout",
          "output_type": "stream",
          "text": [
            "Enter your query: Avengers\n"
          ]
        }
      ]
    },
    {
      "cell_type": "code",
      "execution_count": null,
      "metadata": {
        "id": "59f2deab",
        "colab": {
          "base_uri": "https://localhost:8080/"
        },
        "outputId": "b0a732d4-d6e4-46cd-9f7f-ab49480f221a"
      },
      "outputs": [
        {
          "output_type": "execute_result",
          "data": {
            "text/plain": [
              "['captain america  civil war',\n",
              " 'the avengers',\n",
              " 'captain america  the first avenger',\n",
              " 'captain america  the winter soldier',\n",
              " 'thor',\n",
              " 'spawn',\n",
              " 'the incredible hulk',\n",
              " 'iron man 2',\n",
              " 'superman ii',\n",
              " 'batman v superman  dawn of justice']"
            ]
          },
          "metadata": {},
          "execution_count": 80
        }
      ],
      "source": [
        "cosine_similarity_tokenization(query, K)                                        #Cosine Similarity using Tokenization"
      ],
      "id": "59f2deab"
    },
    {
      "cell_type": "code",
      "source": [
        "cosine_similarity_tfidf(query,K)                                              #Cosine Similarity using TFIDF"
      ],
      "metadata": {
        "colab": {
          "base_uri": "https://localhost:8080/"
        },
        "id": "pnxzmdp8xkdU",
        "outputId": "1a7a989d-486f-42ca-826f-13813ce6f5df"
      },
      "id": "pnxzmdp8xkdU",
      "execution_count": null,
      "outputs": [
        {
          "output_type": "execute_result",
          "data": {
            "text/plain": [
              "['captain america  civil war',\n",
              " 'the avengers',\n",
              " 'captain america  the first avenger',\n",
              " 'thor',\n",
              " 'captain america  the winter soldier',\n",
              " 'spawn',\n",
              " 'the incredible hulk',\n",
              " 'constantine',\n",
              " 'iron man 2',\n",
              " 'serenity']"
            ]
          },
          "metadata": {},
          "execution_count": 81
        }
      ]
    },
    {
      "cell_type": "code",
      "source": [
        "cosine_similarity_hashing(query, 10)                                        #Cosine Similarity using Hashing"
      ],
      "metadata": {
        "colab": {
          "base_uri": "https://localhost:8080/"
        },
        "id": "p3tZ6kW0Msyv",
        "outputId": "37b926db-8050-48a8-afef-54d96917dfbe"
      },
      "id": "p3tZ6kW0Msyv",
      "execution_count": null,
      "outputs": [
        {
          "output_type": "execute_result",
          "data": {
            "text/plain": [
              "['captain america  civil war',\n",
              " 'the avengers',\n",
              " 'captain america  the first avenger',\n",
              " 'captain america  the winter soldier',\n",
              " 'thor',\n",
              " 'spawn',\n",
              " 'iron man 2',\n",
              " 'superman ii',\n",
              " 'the incredible hulk',\n",
              " 'batman v superman  dawn of justice']"
            ]
          },
          "metadata": {},
          "execution_count": 82
        }
      ]
    },
    {
      "cell_type": "code",
      "source": [
        "jaccard_similarity_tokenization(query, K)                           #Jaccard Similarity using Tokenization"
      ],
      "metadata": {
        "colab": {
          "base_uri": "https://localhost:8080/"
        },
        "id": "lhm85Cx6znlt",
        "outputId": "044a3c3e-31e8-4f96-ace0-f890813c3c9e"
      },
      "id": "lhm85Cx6znlt",
      "execution_count": null,
      "outputs": [
        {
          "output_type": "stream",
          "name": "stderr",
          "text": [
            "/usr/local/lib/python3.10/dist-packages/sklearn/metrics/pairwise.py:2025: DataConversionWarning: Data was converted to boolean for metric jaccard\n",
            "  warnings.warn(msg, DataConversionWarning)\n"
          ]
        },
        {
          "output_type": "execute_result",
          "data": {
            "text/plain": [
              "['captain america  civil war',\n",
              " 'the avengers',\n",
              " 'captain america  the winter soldier',\n",
              " 'iron man 2',\n",
              " 'thor',\n",
              " 'batman v superman  dawn of justice',\n",
              " 'captain america  the first avenger',\n",
              " 'superman ii',\n",
              " 'the incredible hulk',\n",
              " 'deadpool']"
            ]
          },
          "metadata": {},
          "execution_count": 83
        }
      ]
    },
    {
      "cell_type": "code",
      "source": [
        "jaccard_similarity_tfidf(query,K)                                 #Jaccard Similarity using TfIdf"
      ],
      "metadata": {
        "colab": {
          "base_uri": "https://localhost:8080/"
        },
        "id": "u1GnAHzE9Ei9",
        "outputId": "dca6baa5-4417-48f6-dd2c-2bd1f16d4803"
      },
      "id": "u1GnAHzE9Ei9",
      "execution_count": null,
      "outputs": [
        {
          "output_type": "stream",
          "name": "stderr",
          "text": [
            "/usr/local/lib/python3.10/dist-packages/sklearn/metrics/pairwise.py:2025: DataConversionWarning: Data was converted to boolean for metric jaccard\n",
            "  warnings.warn(msg, DataConversionWarning)\n"
          ]
        },
        {
          "output_type": "execute_result",
          "data": {
            "text/plain": [
              "['captain america  civil war',\n",
              " 'the avengers',\n",
              " 'captain america  the winter soldier',\n",
              " 'iron man 2',\n",
              " 'thor',\n",
              " 'batman v superman  dawn of justice',\n",
              " 'captain america  the first avenger',\n",
              " 'superman ii',\n",
              " 'the incredible hulk',\n",
              " 'deadpool']"
            ]
          },
          "metadata": {},
          "execution_count": 84
        }
      ]
    },
    {
      "cell_type": "code",
      "source": [
        "jaccard_similarity_hasihing(query, K)                       #Jaccard Similarity using Hashing"
      ],
      "metadata": {
        "colab": {
          "base_uri": "https://localhost:8080/"
        },
        "id": "6genBm_uNPvS",
        "outputId": "91cc6955-d234-434e-e25a-96824dcd097f"
      },
      "id": "6genBm_uNPvS",
      "execution_count": null,
      "outputs": [
        {
          "output_type": "stream",
          "name": "stderr",
          "text": [
            "/usr/local/lib/python3.10/dist-packages/sklearn/metrics/pairwise.py:2025: DataConversionWarning: Data was converted to boolean for metric jaccard\n",
            "  warnings.warn(msg, DataConversionWarning)\n"
          ]
        },
        {
          "output_type": "execute_result",
          "data": {
            "text/plain": [
              "['captain america  civil war',\n",
              " 'the avengers',\n",
              " 'captain america  the winter soldier',\n",
              " 'iron man 2',\n",
              " 'thor',\n",
              " 'captain america  the first avenger',\n",
              " 'batman v superman  dawn of justice',\n",
              " 'superman ii',\n",
              " 'teenage mutant ninja turtles  out of the shadows',\n",
              " 'the incredible hulk']"
            ]
          },
          "metadata": {},
          "execution_count": 85
        }
      ]
    },
    {
      "cell_type": "markdown",
      "source": [
        "There are a total of 6 differnent models:\n",
        "\n",
        "Jaccard and Cosine Similarity combined with tokenization,tf-idf and Hashing NLP methods."
      ],
      "metadata": {
        "id": "umjCTcMoOolG"
      },
      "id": "umjCTcMoOolG"
    }
  ],
  "metadata": {
    "colab": {
      "provenance": [],
      "name": "Content_Based_Recommendation_final.ipynb",
      "include_colab_link": true
    },
    "kernelspec": {
      "display_name": "Python 3 (ipykernel)",
      "language": "python",
      "name": "python3"
    },
    "language_info": {
      "codemirror_mode": {
        "name": "ipython",
        "version": 3
      },
      "file_extension": ".py",
      "mimetype": "text/x-python",
      "name": "python",
      "nbconvert_exporter": "python",
      "pygments_lexer": "ipython3",
      "version": "3.7.12"
    }
  },
  "nbformat": 4,
  "nbformat_minor": 5
}